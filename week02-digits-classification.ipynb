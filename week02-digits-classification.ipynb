{
 "cells": [
  {
   "cell_type": "markdown",
   "metadata": {
    "slideshow": {
     "slide_type": "slide"
    }
   },
   "source": [
    "# MNIST digits classification with TensorFlow"
   ]
  },
  {
   "cell_type": "markdown",
   "metadata": {},
   "source": [
    "<img src=\"images/mnist_sample.png\" style=\"width:30%\">"
   ]
  },
  {
   "cell_type": "code",
   "execution_count": 53,
   "metadata": {},
   "outputs": [
    {
     "name": "stdout",
     "output_type": "stream",
     "text": [
      "We're using TF 1.2.1\n"
     ]
    }
   ],
   "source": [
    "import numpy as np\n",
    "from sklearn.metrics import accuracy_score\n",
    "from matplotlib import pyplot as plt\n",
    "%matplotlib inline\n",
    "import tensorflow as tf\n",
    "print(\"We're using TF\", tf.__version__)"
   ]
  },
  {
   "cell_type": "code",
   "execution_count": 54,
   "metadata": {
    "collapsed": true
   },
   "outputs": [],
   "source": [
    "import sys\n",
    "sys.path.append(\"../..\")\n",
    "import grading\n",
    "\n",
    "import matplotlib_utils\n",
    "from importlib import reload\n",
    "reload(matplotlib_utils)\n",
    "\n",
    "import grading_utils\n",
    "reload(grading_utils)\n",
    "\n",
    "import keras_utils\n",
    "from keras_utils import reset_tf_session"
   ]
  },
  {
   "cell_type": "markdown",
   "metadata": {},
   "source": [
    "# Fill in your Coursera token and email\n",
    "To successfully submit your answers to our grader, please fill in your Coursera submission token and email"
   ]
  },
  {
   "cell_type": "code",
   "execution_count": 55,
   "metadata": {
    "collapsed": true
   },
   "outputs": [],
   "source": [
    "grader = grading.Grader(assignment_key=\"XtD7ho3TEeiHQBLWejjYAA\", \n",
    "                        all_parts=[\"9XaAS\", \"vmogZ\", \"RMv95\", \"i8bgs\", \"rE763\"])"
   ]
  },
  {
   "cell_type": "code",
   "execution_count": 56,
   "metadata": {
    "collapsed": true
   },
   "outputs": [],
   "source": [
    "# token expires every 30 min\n",
    "COURSERA_TOKEN = \"eNdU8RsFEmLPLTl5\"\n",
    "COURSERA_EMAIL = \"fa.avalos@uniandes.edu.co\""
   ]
  },
  {
   "cell_type": "markdown",
   "metadata": {},
   "source": [
    "# Look at the data\n",
    "\n",
    "In this task we have 50000 28x28 images of digits from 0 to 9.\n",
    "We will train a classifier on this data."
   ]
  },
  {
   "cell_type": "code",
   "execution_count": 57,
   "metadata": {
    "collapsed": true
   },
   "outputs": [],
   "source": [
    "import preprocessed_mnist\n",
    "X_train, y_train, X_val, y_val, X_test, y_test = preprocessed_mnist.load_dataset_from_file()"
   ]
  },
  {
   "cell_type": "code",
   "execution_count": 58,
   "metadata": {},
   "outputs": [
    {
     "name": "stdout",
     "output_type": "stream",
     "text": [
      "X_train [shape (50000, 28, 28)] sample patch:\n",
      " [[ 0.          0.29803922  0.96470588  0.98823529  0.43921569]\n",
      " [ 0.          0.33333333  0.98823529  0.90196078  0.09803922]\n",
      " [ 0.          0.33333333  0.98823529  0.8745098   0.        ]\n",
      " [ 0.          0.33333333  0.98823529  0.56862745  0.        ]\n",
      " [ 0.          0.3372549   0.99215686  0.88235294  0.        ]]\n",
      "A closeup of a sample patch:\n"
     ]
    },
    {
     "data": {
      "image/png": "[encoded data removed]",
      "text/plain": [
       "<matplotlib.figure.Figure at 0x7fcb104bfd68>"
      ]
     },
     "metadata": {},
     "output_type": "display_data"
    },
    {
     "name": "stdout",
     "output_type": "stream",
     "text": [
      "And the whole sample:\n"
     ]
    },
    {
     "data": {
      "image/png": "[encoded data removed]",
      "text/plain": [
       "<matplotlib.figure.Figure at 0x7fcb52a79438>"
      ]
     },
     "metadata": {},
     "output_type": "display_data"
    },
    {
     "name": "stdout",
     "output_type": "stream",
     "text": [
      "y_train [shape (50000,)] 10 samples:\n",
      " [5 0 4 1 9 2 1 3 1 4]\n"
     ]
    }
   ],
   "source": [
    "# X contains rgb values divided by 255\n",
    "print(\"X_train [shape %s] sample patch:\\n\" % (str(X_train.shape)), X_train[1, 15:20, 5:10])\n",
    "print(\"A closeup of a sample patch:\")\n",
    "plt.imshow(X_train[1, 15:20, 5:10], cmap=\"Greys\")\n",
    "plt.show()\n",
    "print(\"And the whole sample:\")\n",
    "plt.imshow(X_train[1], cmap=\"Greys\")\n",
    "plt.show()\n",
    "print(\"y_train [shape %s] 10 samples:\\n\" % (str(y_train.shape)), y_train[:10])"
   ]
  },
  {
   "cell_type": "markdown",
   "metadata": {},
   "source": [
    "# Linear model\n",
    "\n",
    "Your task is to train a linear classifier $\\vec{x} \\rightarrow y$ with SGD using TensorFlow.\n",
    "\n",
    "You will need to calculate a logit (a linear transformation) $z_k$ for each class: \n",
    "$$z_k = \\vec{x} \\cdot \\vec{w_k} + b_k \\quad k = 0..9$$\n",
    "\n",
    "And transform logits $z_k$ to valid probabilities $p_k$ with softmax: \n",
    "$$p_k = \\frac{e^{z_k}}{\\sum_{i=0}^{9}{e^{z_i}}} \\quad k = 0..9$$\n",
    "\n",
    "We will use a cross-entropy loss to train our multi-class classifier:\n",
    "$$\\text{cross-entropy}(y, p) = -\\sum_{k=0}^{9}{\\log(p_k)[y = k]}$$ \n",
    "\n",
    "where \n",
    "$$\n",
    "[x]=\\begin{cases}\n",
    "       1, \\quad \\text{if $x$ is true} \\\\\n",
    "       0, \\quad \\text{otherwise}\n",
    "    \\end{cases}\n",
    "$$\n",
    "\n",
    "Cross-entropy minimization pushes $p_k$ close to 1 when $y = k$, which is what we want.\n",
    "\n",
    "Here's the plan:\n",
    "* Flatten the images (28x28 -> 784) with `X_train.reshape((X_train.shape[0], -1))` to simplify our linear model implementation\n",
    "* Use a matrix placeholder for flattened `X_train`\n",
    "* Convert `y_train` to one-hot encoded vectors that are needed for cross-entropy\n",
    "* Use a shared variable `W` for all weights (a column $\\vec{w_k}$ per class) and `b` for all biases.\n",
    "* Aim for ~0.93 validation accuracy"
   ]
  },
  {
   "cell_type": "code",
   "execution_count": 59,
   "metadata": {},
   "outputs": [
    {
     "name": "stdout",
     "output_type": "stream",
     "text": [
      "(50000, 784)\n",
      "(10000, 784)\n"
     ]
    }
   ],
   "source": [
    "X_train_flat = X_train.reshape((X_train.shape[0], -1))\n",
    "print(X_train_flat.shape)\n",
    "\n",
    "X_val_flat = X_val.reshape((X_val.shape[0], -1))\n",
    "print(X_val_flat.shape)"
   ]
  },
  {
   "cell_type": "code",
   "execution_count": 60,
   "metadata": {},
   "outputs": [
    {
     "name": "stdout",
     "output_type": "stream",
     "text": [
      "(50000, 10)\n",
      "[[ 0.  0.  0.  0.  0.  1.  0.  0.  0.  0.]\n",
      " [ 1.  0.  0.  0.  0.  0.  0.  0.  0.  0.]\n",
      " [ 0.  0.  0.  0.  1.  0.  0.  0.  0.  0.]] [5 0 4]\n"
     ]
    }
   ],
   "source": [
    "import keras\n",
    "\n",
    "y_train_oh = keras.utils.to_categorical(y_train, 10)\n",
    "y_val_oh = keras.utils.to_categorical(y_val, 10)\n",
    "\n",
    "print(y_train_oh.shape)\n",
    "print(y_train_oh[:3], y_train[:3])"
   ]
  },
  {
   "cell_type": "code",
   "execution_count": 61,
   "metadata": {
    "collapsed": true
   },
   "outputs": [],
   "source": [
    "# run this again if you remake your graph\n",
    "s = reset_tf_session()"
   ]
  },
  {
   "cell_type": "code",
   "execution_count": 62,
   "metadata": {
    "collapsed": true
   },
   "outputs": [],
   "source": [
    "# Model parameters: W and b\n",
    "W = tf.get_variable('W', shape=(784, 10), dtype=tf.float32, trainable=True) # tf.get_variable(...) with shape[0] = 784\n",
    "b = tf.get_variable('b', shape=(10,), dtype=tf.float32, trainable=True) # tf.get_variable(...)"
   ]
  },
  {
   "cell_type": "code",
   "execution_count": 63,
   "metadata": {
    "collapsed": true
   },
   "outputs": [],
   "source": [
    "# Placeholders for the input data\n",
    "input_X = tf.placeholder(dtype=tf.float32, shape=(None,784)) # tf.placeholder(...) for flat X with shape[0] = None for any batch size\n",
    "input_y = tf.placeholder(dtype=tf.float32, shape=(None,10)) # tf.placeholder(...) for one-hot encoded true labels"
   ]
  },
  {
   "cell_type": "code",
   "execution_count": 64,
   "metadata": {
    "collapsed": true
   },
   "outputs": [],
   "source": [
    "# Compute predictions\n",
    "logits = tf.matmul(input_X, W) + b # logits for input_X, resulting shape should be [input_X.shape[0], 10]\n",
    "probas = tf.nn.softmax(logits) # apply tf.nn.softmax to logits\n",
    "classes = tf.argmax(probas, 1) # apply tf.argmax to find a class index with highest probability\n",
    "\n",
    "# Loss should be a scalar number: average loss over all the objects with tf.reduce_mean().\n",
    "# Use tf.nn.softmax_cross_entropy_with_logits on top of one-hot encoded input_y and logits.\n",
    "# It is identical to calculating cross-entropy on top of probas, but is more numerically friendly (read the docs).\n",
    "loss = tf.reduce_mean(tf.nn.softmax_cross_entropy_with_logits(labels=input_y, logits=logits))\n",
    "\n",
    "# Use a default tf.train.AdamOptimizer to get an SGD step\n",
    "adam = tf.train.AdamOptimizer()\n",
    "step = adam.minimize(loss)"
   ]
  },
  {
   "cell_type": "code",
   "execution_count": 70,
   "metadata": {
    "scrolled": false
   },
   "outputs": [
    {
     "data": {
      "text/html": [
       "<img src=\"data:image/jpeg;base64,/9j/4AAQSkZJRgABAQAAAQABAAD/2wBDAAIBAQEBAQIBAQECAgICAgQDAgICAgUEBAMEBgUGBgYFBgYGBwkIBgcJBwYGCAsICQoKCgoKBggLDAsKDAkKCgr/2wBDAQICAgICAgUDAwUKBwYHCgoKCgoKCgoKCgoKCgoKCgoKCgoKCgoKCgoKCgoKCgoKCgoKCgoKCgoKCgoKCgoKCgr/wAARCAEgA2ADASIAAhEBAxEB/8QAHwAAAQUBAQEBAQEAAAAAAAAAAAECAwQFBgcICQoL/8QAtRAAAgEDAwIEAwUFBAQAAAF9AQIDAAQRBRIhMUEGE1FhByJxFDKBkaEII0KxwRVS0fAkM2JyggkKFhcYGRolJicoKSo0NTY3ODk6Q0RFRkdISUpTVFVWV1hZWmNkZWZnaGlqc3R1dnd4eXqDhIWGh4iJipKTlJWWl5iZmqKjpKWmp6ipqrKztLW2t7i5usLDxMXGx8jJytLT1NXW19jZ2uHi4%2BTl5ufo6erx8vP09fb3%2BPn6/8QAHwEAAwEBAQEBAQEBAQAAAAAAAAECAwQFBgcICQoL/8QAtREAAgECBAQDBAcFBAQAAQJ3AAECAxEEBSExBhJBUQdhcRMiMoEIFEKRobHBCSMzUvAVYnLRChYkNOEl8RcYGRomJygpKjU2Nzg5OkNERUZHSElKU1RVVldYWVpjZGVmZ2hpanN0dXZ3eHl6goOEhYaHiImKkpOUlZaXmJmaoqOkpaanqKmqsrO0tba3uLm6wsPExcbHyMnK0tPU1dbX2Nna4uPk5ebn6Onq8vP09fb3%2BPn6/9oADAMBAAIRAxEAPwD9/KKKKACiiigAooooAKKKKACiiigAooooAKKKKACiiigAooooAKKKKACiiigAooooAKKKKACiiigAooooAKKKKACiiigAooooAKKKKACiiigAooooAKKKKACiiigAooooAKKKKACiiigAooooAKKKKACiiigAooooAKKKKACiiigAooooAKKKKACiiigAooooAKKKKACiiigAooooAKKKKACiiigAooooAKKKKACiiigAooooAKKKKACiiigAooooAKKKKACiiigAooooAKKKKACiiigAooooAKKKKACiiigAooooAKKKKACiiigAooooAKKKKACiiigAooooAKKKKACiiigAooooAKKKKACvPfjt%2B1J8FP2b5NGsfil4g1Maj4ilnTQNB8OeF9R1zVNR8lVed4bHTbee5kjiVkMkixlI96biu5c%2BhV4N%2B0P8D/j5/wANJ%2BDv2tv2bLLwfrWueH/B2seFNX8KeOdcutLtLywv7mwuxcQXtraXj288U2noCpt3WVJSCUKK1ABpf/BTL9izWLvxPb2nxXv0h8FWsk/jLUrvwXrEFjoIS0iu9l5dy2iwWsrQzRskMjrJIWKorMrKL2n/APBQ/wDZK1HwBrXxFTx/q9vB4f1ay0vVdE1DwNrNrrkV5ebfscC6PNaLqEr3AYGER27eaAxTcFYjy2b9gH4y%2BMf2a/jn8NfGHinwppHin4o/FS38daHc6U1xeWFpeW0OiywQ3IkihkkiN3pRRwoyYHGDuJVaPi79i/8AaV%2BLmr/Ef45fG34S/CjWvFnjWx8KaPp/gKy%2BI2s2Wm6fY6Hcaldw3qa7b6al5DqDXOqTOksVoPJSKNFZiWcgHsviH9vv9mzwv4a8OeI9XvvG3meK0v5NE8P2vwm8SXGuSRWUscV3NJpMWntf28MLzQq8s0CIpmiy37xM%2Bmaz8RPBHhv4e3XxX8T%2BJbbSvDljo76rf6vqrfZYbSySIzPPMZdvlKsYLNvxtAOcYNfGHin9hH9s/WPgX4X8Nay3hfxV470a58RHRfGV/wDHbxNpGr%2BCLW%2BuUktLO11q1sJLzXIYkjhEy3qw/aTbReYCFGPUfjR/wTotfj1%2Bzb4n%2BHHxD%2BOfjW78d%2BMPhfH4Z17xS3jbWho818tpDE2oJoS3y2FuzzQLK3kRRSEPIBIrSM5AOkg/4KUfsZf8K58V/FbWPite6Jo3giysr7xQ/ifwdq%2Bk3NlZXkxhtb37LeWsVxJaSyK6pcxxtC3luQ%2BEYjj/AI3f8FZP2d/hn8ENU%2BMfgPRfFXiqbQfiD4X8L674Y/4QXXbHU7A6zqVrax3T2cmnNdeV5Fw88DeT5d48aW8MhknjB8r1T/gmJ8ZPHfwq8faR4i8DeG9G8Y%2BI9D0fR7DxDqv7RfjPxut3aWusW%2BoTRyf27AfsEZ8likUSzHe%2BGkxknv8A9qH9gz40/GD4g/F/4g%2BBfEPheOTxfB8LbzwlZ6tfXMSvf%2BE/EdzrUsN40dvJ5ENwGt4VljEzrl2MfyKrgHqFh/wUE/Zb1H4m2XwZh8T%2BJo/Fd5oun6xLoF38N9egudO0%2B9adILu/SSyU6dDut5VeS68pYiFEhQum6j4a/wCCmH7FPi3wZ4s%2BIWkfGC4TR/Bfgi68Zaxe6h4S1W0Fx4et0Z5tWsVntUbVLNVQ4nsxPGxZArEugbB0P9kP4ofEP4mfG74g/G9fD2gxfGj4O%2BHfCF1Y%2BE9duNRl0u4tE11Ltlnns7XzYwNViMT7FZikm6OPA3fN37Y37Kn7UOj/ALDHxS%2BJv7TF34AtIfhD%2BxT8QfBHhePwFqF5cNrzXukWxn1G6W5toBYqE0i3CWcbXAVppCZ22oKAPrPw9/wUl/Yy8TaHrHiPT/i1dQWehppU1/JqnhLVbJmtNSu1s7HUIUuLVGubCWdgovoQ9qoDO0qorMPT9E%2BLvw88R/FLX/gvofiH7T4k8LaXp%2Boa/YR2k22zgvmuBa7pinlF3%2ByzHy1cyKoRmVVkjLfJOofsz%2BIPFegeKfjb/wAFIvF/wz8J%2BBbf9nu5%2BHUlx4f8QTLay6beyQyXmq3k17BbpYOTBbCG2QzCAmT/AEiQsuOw/wCCPngP4u2f7I9r8f8A9pDUDf8AxJ%2BL15H4n8V6g9nJbtJCLSCy01fKl%2BeH/iX2lpI0TYKSzTZAYtkA%2BqqKKKACiiigAooooAKKKKACiiigAooooAKKKKACiiigAooooAKKKKACiiigAooooAKKKKACiiigAooooAKKKKACiiigAooooAK8R0j/AIKMfse6ld69Z6n8Urzw83hzw5c%2BINQk8a%2BEdV0GObSbd0jnv7WTUrWBb63R5IlaW2MqAyxjOXXPtN7FczWcsNndCCZ4mWKYx7/LYjhtp64POO9fmJq//BHL9uX4v6t4X1z43fHHQ31vw14P1Cz1DxRqHxW8TeJx4h1v7ZpV9a6idLvoobLSbaS50xfPsLIBRHJtWWQKgUA%2B2X/b/wD2YbX4aN8WNY8QeKtK0ttcg0axs9c%2BGWv2GqanfzIZIYLLTbixS9v2kQM6/Z4ZAyo7AkIxHReA/wBqz4H/ABH1%2By8J%2BHPEOqQ6vf8AhSfxJDpGteFdS0y7TTYbv7JLLLDeW8UkDrP8hhkVZe%2BzbzXk3xO%2BDn7bvxib4e/G3XPBvwq0P4h/Cjx1NrHh/wAM2vjjUr/Rdcs7jSbvTLmO4vn0qGaxmKXskkbpa3AjMQU%2BYJGxV%2BJPwG/bg1/4y%2BHf2mvA%2BjfCu08WX3ww1XwX4x0LUvFepSWGkLcX8N1a39lcJpwk1AxCN1kt5YrQSlxiWLHIB3Gk/wDBRv8AZA8R694F8LeFfiNqus6n8SfBuleLfBunaJ4H1m9nvND1F9lrqMiQWjNa2%2B7HmSTiNbcMpm8oMCdj4a/tufs3fFf4jXPwn8M%2BL9Ws9ft9LudThsvE/gzVtEW/sbeRI57uyl1G1gjv4I3liDy2zSIvmISQGUnyj9hT9hL4sfsw6/8ADjWfHniDw1dnwd%2Byl4R%2BGN%2B%2BkXM8rNq2lvM1zNF5kEe61bemxmKu235o0wK8a%2BGn/BKv9sbxP8UfC/ib9qb4w2eqRaf4A8V%2BF/GniaD4v%2BJNavPEUur2KW39p2umX0Men6EcqWNpaKUXKgTOI1WgD6l8J/8ABRf9kfxrosfirQfHeuf2Hcarpen6f4lvfh/rdrpWoy6lex2VlJaX09mlteQS3M0UYuIJHhBlQs4VgT6X4W%2BLvw88a/EDxT8LvC/iH7XrnguSzj8T2iWkwWxkuoPtEEZlZBG7tCVkKIzMiyRlgokTd8w%2BOPAnxF8K/wDBPbxp8CP%2BChnif4VeCPAWg/DSLQLb4meHfFt2GadI0trXUntLqzgTTZlmFvJDBHcXTGcoiOTtDdr/AMEr/h98WPDf7ImlfFX9oqwS3%2BJ3xYvpfHXxEhW3aL7Pf36xmG02N8yfZbGOys9pyQLXBoA%2BjaKKKACiiigAooooAKKKKACiiigAooooAKKKKACiiigAooooAKKKKACiiigAooooAKKKKACiiigAooooAKKKKACiiigAooooA574r%2BPb74YfDzU/Hmm/DzXvFc%2BmwrInh7wyLU315l1UrF9rnghBAYsTJKihVY54wcHwd%2B0DpnxH/Zo8PftOfDr4d%2BJdbsfFPhLTtf0Pw1Zw2q6pcQ3sEU0MJWW4S3SULKu7dOI1IYmTA3VvfFcfEFvhzrEXwr8O6Nq3iCWzaPTdP8Qa5LptnK7EKfNuYba6eIBSxBWGTJAGADuHh/wI%2BHX7dvwS/YG8O/APQPBvwot/iN4L%2BF1j4e8O6jN441K80efUbO2itIbif/iVQzCFkjM7Iqlg2IgSD5wAPVPgD%2B0Bofx%2B0nX5bTwXr3hnWPCfiN9C8U%2BGfE0dsL3S75ba3u1jdrSee3kD213bTK8U0ilZl5DBlHKfHrx/%2B0X/AMNF%2BBfgR8BfGfgrw%2Bmv%2BCvEuvavqfi/wXd60SdOu9Dt4YYY7fUrHyw39qSszMz58tAAvJNr9iX4PfED4IfBdvB/xU8L6NZeIp9ZuL/W9W0vxjPrsviC7nCPPqV3czadYFbiWUuPJSHyoo44kjKoqxR8Prfgvwz4C/4KrfD3WdM1DxBNd%2BL/AIMeP5r2PVfF%2BpX1rFJBq3g8qtra3NxJBZKRI5ZbdIw21dwO0YTaW5cISqO0ezf3as7D/hB/%2BChf/R0HwZ/8MPq3/wA1FH/CD/8ABQv/AKOg%2BDP/AIYfVv8A5qK9mopkHjP/AAg//BQv/o6D4M/%2BGH1b/wCaij/hB/8AgoX/ANHQfBn/AMMPq3/zUV7NRQB4z/wg/wDwUL/6Og%2BDP/hh9W/%2Baij/AIQf/goX/wBHQfBn/wAMPq3/AM1FezUUAeM/8IP/AMFC/wDo6D4M/wDhh9W/%2Baij/hB/%2BChf/R0HwZ/8MPq3/wA1FezUUAeM/wDCD/8ABQv/AKOg%2BDP/AIYfVv8A5qKP%2BEH/AOChf/R0HwZ/8MPq3/zUV7NRQB4z/wAIP/wUL/6Og%2BDP/hh9W/8Amoo/4Qf/AIKF/wDR0HwZ/wDDD6t/81FezUUAeM/8IP8A8FC/%2BjoPgz/4YfVv/moo/wCEH/4KF/8AR0HwZ/8ADD6t/wDNRXs1effEDx/8DPhoNT8YfH3xx4U8P6edai0%2By1LxhqltaQeYbSOVYI5LllXeQJX2g5IVjjg4mc4U4uU2kl1bsvvdkbYfD4jF140aEJTnJ2UYpyk32UYqUm9Hok3psc1/wg//AAUL/wCjoPgz/wCGH1b/AOaij/hB/wDgoX/0dB8Gf/DD6t/81FV/%2BGv/APgnB/0dF8Ef/C20f/47R/w1/wD8E4P%2Bjovgj/4W2j//AB2ub6/gP%2Bf0P/A4f/JHtf6pcWf9C7Ef%2BE9f/wCUFj/hB/8AgoX/ANHQfBn/AMMPq3/zUUf8IP8A8FC/%2BjoPgz/4YfVv/morsPhp4k/Zy%2BNGhS%2BKfg7r/gnxZplvdtaz6j4aurO/gjnVVdomkgLKHCujFScgOpxgivJ/iD%2B2z%2Byd8IfjX8RPhF8WPA%2BoaHafDTwNp3inxD4tk%2BH9/caVFZXIvmYtcwWjxR%2BWlkTln/eM7Rx7nhlVemE4VIqUGmn1TuvvV0eLiMPiMJXlRrwlCcXZxknGSfZxkoyT1WjSeux1H/CD/wDBQv8A6Og%2BDP8A4YfVv/moo/4Qf/goX/0dB8Gf/DD6t/8ANRUTftN/soW03huPWPCevaVD4ruIbfSL/XPg/rdhaLNNevZW8dzc3FgkNk81woSJbh4ml82FkDLNEz8zrv7dP7FPgK0J%2BJM1jb3bXvitYbXw34H1bWCLPw/qp03UbqUW%2Bm74UglaITMy%2BUhdiks0SidqMTq/%2BEH/AOChf/R0HwZ/8MPq3/zUUf8ACD/8FC/%2BjoPgz/4YfVv/AJqK77QI/gx4ruJ7TwvH4Y1Ga2hgmuYbFbeV4Y508yF3VclRInzKTjcvIyK8P/Z%2B/aq0T40fFLRvC%2Bufs3aJofhjxzpuu6h8M/EkOqpdz6tb6Vew2sxu7U2kYsWmSeO5gVJbjdCH8wwuojIB2X/CD/8ABQv/AKOg%2BDP/AIYfVv8A5qKP%2BEH/AOChf/R0HwZ/8MPq3/zUVxviz9qrRPDXx41HwPb/ALN2h3PgTw98RNF8B%2BJ/Graqkd5aa/qtpZ3FokWn/ZCs9rnUtNhec3KMsl0QInETtW38Ifiv4t%2BJOv8Axg8Bax%2Byz4S0vxJ8NdTjtdC0%2B28Trcwa6J9PS8tGmnNhH9iZ/MRHUJOI8khpMYoA1/8AhB/%2BChf/AEdB8Gf/AAw%2Brf8AzUUf8IP/AMFC/wDo6D4M/wDhh9W/%2BaivNNe/a38UWH/BOjXv249E/Y/8H3ut%2BFLDxDe%2BIvBEvjLybWKHRri%2BhuzDqP8AZjPMWFixjBtU3GRQ2wAtWt%2B0N%2B1T4b%2BDP7Rnw%2B/Z40f4ZfCaO68d%2BHrrVINR%2BIXxCTw8rPDd2VuLOzjXTbo31y/2vcsYMeREeecgA7X/AIQf/goX/wBHQfBn/wAMPq3/AM1FH/CD/wDBQv8A6Og%2BDP8A4YfVv/morldM/al%2BHfi39sTVP2VfBPgb4YN/wjmopp%2Bvvr/jiCx124uTp8N%2B50zSFs5Wv4Iorm3EkzTQKHMqqGMLZ8Z0D/gq94D174c/E/4hWn7M3gmf/hXnw9vvFM%2Blaf45inudKe3ujbjSvEKf2ep0HUHIdxD/AKVhbe55PlDeAfSH/CD/APBQv/o6D4M/%2BGH1b/5qKP8AhB/%2BChf/AEdB8Gf/AAw%2Brf8AzUVzmm/GLxV4m/ZqH7QPgX4W/s/67Hby3Vxqd7pPxgmudAh0y3jdpLmPVINCkaWRWQhovs6qoDHzSRtPm13/AMFANR034S6V8VtX/Yn0OzTR/gxpXxQ%2BMOmXPidVn8I6Fftc%2BUlt/wAS/wD4mV0sVhqErxP9lUC0KhyzqCAe2f8ACD/8FC/%2BjoPgz/4YfVv/AJqKP%2BEH/wCChf8A0dB8Gf8Aww%2Brf/NRVfwz8SrzUP2v/EH7Mnin9nbwzp2l2Xg2HxD4c8T2usrcz6lC1z9mkSazNmi2pWTO0iebcBkhOlcT8G/2mPE/xn8Y/Ej4N%2BFP2e/g/qfjf4fW9g1wnhv4nvqWgpdT3NxBPpl9qKaMsthqEC2ryPa/ZZTtkhyybyVAO%2B/4Qf8A4KF/9HQfBn/ww%2Brf/NRR/wAIP/wUL/6Og%2BDP/hh9W/8AmoryLwB%2B2Z4/%2BJfhDQbPwn%2Bxd4FufG/ijxl4p0rQNGXx8w0i60zQJ2trzVf7RbRxKEe6VYYYxaHzPOifesbF12739rkSfDb4b/tH%2BHv2W/DNz8L/AIhN4UgTUrvxIsGv2tzrt3bWkMSaYLF4p/Ilu4fN/wBLR9qzFEcoA4B6F/wg/wDwUL/6Og%2BDP/hh9W/%2Baij/AIQf/goX/wBHQfBn/wAMPq3/AM1Fea/Ej9tnwZ8Fvjp4t%2BEnxI%2BCXgTUIfDPgjXfFc0PgHxamsa7Zadp1ulykmp6W9hB/ZwuYnAhPnzK8pVASDvE/g79q%2B58RaJ460TxD8CvhFoXjLwP4S0Lxbe2mofE9f8AhH49B1Q3fk3Vzqw0rdbOi6fes6fZnQBIWEpSYOoB6H/wg/8AwUL/AOjoPgz/AOGH1b/5qKoeB/HH7Vng79qzw58Efjd8R/h74m0bxN8PfEOuQzeFfh5faLdWl1pt9oluis9xq98ksbpqkpKhEYNEhDYyDL%2Bzh8XvCH7TP7LqfH/RPh1pGiy3H9rRWk2jXaXlpO1ldXFst9YXqxRG6s5zAJ7e4EcfmwyxvtXdirXjj/lIX8L/APsjPjz/ANO3hCgD2aiiigArzb9rL9pXSv2Rvgjq3x68R/C/xX4r0nQYZLnWrTwfDZvc2dnHFJNNduLy5t0MUaRnIVy5JUKjE4r0mvGf%2BCgnwn%2BNXx8/Y/8AHnwG%2BAmjeFrvXvG/hu90LzvF/iO50y0sobq2lia58y3srt5HQspEXlqGBP7xcDIB2Hx6%2BOnh/wCAPg608T6v4a1jXr3VdbtNH8P%2BHPD0cDX2rX9y%2B2K3h%2B0SwwqcB5GeWWONI4ndnUKTXk/iP/gpr8IND8D6d4z034U%2BP9Zmk0nXtU8T6DpGmWT3/hSy0S8%2Bw6tNfpJdohNtdbofKtXuJZzG5t0nVS1bHxs%2BGP7S/wAZvBXhLxQPB3gXR/G3gPxjpnifRNJHjS8utMv50huLa8s5rv8AsyOWBDb3U6xzrbyHeUdogFKHxq9/YD/at8M%2BGtQ1/wCHOufD%2Bfxd8QPDXjXSPiBHq%2BrXsdho8mv6xJqcV1YOlo73osfPmg8mVLb7UNjmW2IKkA%2B1NN1LT9Z0631fSb2K5tbuBJra4hcMksbAMrqRwQQQQfevnj4TeKv27/jro%2BveO/C/xv8AhJoGl2/xC8VaHpelX/wf1S/uIrXS9ev9MhaW4TxFAssjx2auzLFGu5yAoAFezW/wj8MRfB%2Bz%2BCb3%2BsR6RZ6Hb6UlxpmuXWn3ohhjWNWS6tJIpoXwg%2BeN1PXnmvHv2HPDun%2BFf2Ur3wfplzfy2dp8afHFikmparcXtzLD/wAJ5q0ZEtxcO807smQ0kjs7kksxJJoA6P8A4Qf/AIKF/wDR0HwZ/wDDD6t/81FH/CD/APBQv/o6D4M/%2BGH1b/5qKfr/AO1B/wAE/fCmu3vhbxT%2B0R8HNN1PTbuS11HTtQ8XaVDPazxsUkikjeUMjqwKsrAEEEEZFVP%2BGv8A/gnB/wBHRfBH/wALbR//AI7XK8dgU7OrD/wOP/yR70OFeKakFOGX4hppNNUK7TT1TTVBpppppptNNNNpplj/AIQf/goX/wBHQfBn/wAMPq3/AM1FH/CD/wDBQv8A6Og%2BDP8A4YfVv/mop%2BgftQf8E/fFeu2Xhbwt%2B0R8HNS1PUruO107TtP8W6VNPdTyMEjijjSUs7sxCqqgkkgAZNXv2q/iX8Kv2UP2b/Gv7SXin4XLq2n%2BCvD1xqt1pukaIJri5WJc7EWONiMnGXI2ouXcqqsw1pV6FdN05qVuzT/Js8/HZXmeVzjDG4epScldKpCdNtbXSnCDavpdJq%2Bl76Gd/wAIP/wUL/6Og%2BDP/hh9W/8Amoo/4Qf/AIKF/wDR0HwZ/wDDD6t/81FUNJ/az/Y/1zxvL8NdL8Na/L4htvDi69qGi/8ACmtdW60%2BweO7eKW6jbTw1q0v2G5WKOYJJM8YjjV3dFZ2mftOfsweJpPDv/CK6ZYIdZ8dTeFb2w8S%2BEtR0fUbG%2Bj0a61cwtZXNgJklNrbrMq3C28bwyeYsrMYo5tThLv/AAg//BQv/o6D4M/%2BGH1b/wCaij/hB/8AgoX/ANHQfBn/AMMPq3/zUVQ%2BCn7X/wCwv%2B0Fo03iP4beJtL/ALOi8P6frqX/AIi8I3eiwXOl3zMtrewSajbQLc28jqUEsRdQ%2BEJDECrv7RvxEb4V6/4P%2BGnwg%2BAHhrxd4z8bXt4mlaXrWqrpFjBa2dq1xc3M90lndOgH7mJVWFy0lxHnYgd1AHf8IP8A8FC/%2BjoPgz/4YfVv/moo/wCEH/4KF/8AR0HwZ/8ADD6t/wDNRXPa/wDtSfC2D9i3w1%2B1/wCE/gpZXg8Xjw7b6N4d1QwWfkX%2BsX9pp8EF3ciORbeOK5vEWaVVk2rHIUWQ7VbirX9txfEV9ZfCzwT%2BzN4CvPiUni7xBoHiLRr7xyttoWnT6Pa293c7NUGmvJOzQXlo6Rm0jb5pvM8oQOaAPVv%2BEH/4KF/9HQfBn/ww%2Brf/ADUUf8IP/wAFC/8Ao6D4M/8Ahh9W/wDmory7xb%2B2Nq938H/hP%2B0Z8C/2WvAPinwT8XJPC0GgjVvGsmnayJ9ZmiUotpFpFzBIttBI1xI32lfkt58AbAW6f4RftS/Dv43ftM%2BIfgh4G8DfDA6V4a1TUNNvZLvxxAviSeeycwXM8OiJZsTZpdq9t58lxGxeJ2EZXYzgHVf8IP8A8FC/%2BjoPgz/4YfVv/moo/wCEH/4KF/8AR0HwZ/8ADD6t/wDNRXpNtpGl6H4xtbfRdOgtI7jTLlp4raIIrskkAUkLgEgO3PvW7QB4z/wg/wDwUL/6Og%2BDP/hh9W/%2Baij/AIQf/goX/wBHQfBn/wAMPq3/AM1FezUUAeM/8IP/AMFC/wDo6D4M/wDhh9W/%2Baij/hB/%2BChf/R0HwZ/8MPq3/wA1FezUUAeM/wDCD/8ABQv/AKOg%2BDP/AIYfVv8A5qKP%2BEH/AOChf/R0HwZ/8MPq3/zUV7NRQB4z/wAIP/wUL/6Og%2BDP/hh9W/8Amoo/4Qf/AIKF/wDR0HwZ/wDDD6t/81FezUUAeM/8IP8A8FC/%2BjoPgz/4YfVv/moo/wCEH/4KF/8AR0HwZ/8ADD6t/wDNRXs1FAHjP/CD/wDBQv8A6Og%2BDP8A4YfVv/moo/4Qf/goX/0dB8Gf/DD6t/8ANRXs1FAHjP8Awg//AAUL/wCjoPgz/wCGH1b/AOaij/hB/wDgoX/0dB8Gf/DD6t/81FezUy4uLe0ha5up0ijQZeSRgqqPUk9KBpNuyPHP%2BEH/AOChf/R0HwZ/8MPq3/zUUf8ACD/8FC/%2BjoPgz/4YfVv/AJqK7jVf2gfgLoU7Wut/G3whZyJ96O68S2sbD6hpBWNqH7Y37ImkqW1X9qj4b2wHU3HjiwT%2Bc1YSxWFh8VSK/wC3o/8AyR6lLIc9xFvZYSrK/alVf5UmYH/CD/8ABQv/AKOg%2BDP/AIYfVv8A5qKP%2BEH/AOChf/R0HwZ/8MPq3/zUU6%2B/4KJfsFaeSLj9sz4YNjr5Pjexl/8AQJTWc3/BTj/gnwrlD%2B2J4ByPTxDER%2BeaxeZZbHevD/wOP/yR6MOCeNKivDK8S/8AuXr/APykv/8ACD/8FC/%2BjoPgz/4YfVv/AJqKP%2BEH/wCChf8A0dB8Gf8Aww%2Brf/NRWPqf/BU7/gndpMXnXX7X/gpxjOLXVPPP5RhjXKav/wAFrP8Agmnpk4srP9oz%2B1Lpv9Xa6P4W1S5d/oUtiv61lPOMop/FiIL/ALfj/mzuw3hv4iYv%2BDk%2BKl/3L1vzdOK%2B9nof/CD/APBQv/o6D4M/%2BGH1b/5qKP8AhB/%2BChf/AEdB8Gf/AAw%2Brf8AzUV5if8AgsF8GtZ/5Jl%2BzH8evGhP%2BrPhn4WXEgb8ZXj4pP8Ah4T%2B1x4r4%2BE3/BKH4oXhb/V/8JhrdhoGf97zi%2B2s/wC3MrfwTcv8MZy/KH6nZ/xC3jqH%2B8YVUV/0%2BrYajb19piU184o9P/4Qf/goX/0dB8Gf/DD6t/8ANRVv9lb4jfGnxhrHxQ8CfHTX/C%2Brap4B%2BIUWh2eq%2BE/DVzpNvdWsug6Pqas9vcXt4yyLJqMqFhLtKxodqnOfJh%2B0H/wV31YeZYf8E8/A%2BkBuRHqvxZgnZPYmFMH8K6H/AIJ16t8Zdd1v486r%2B0F4R0fQvF8vxmg/tfStAv2urSDHhHw2ItkrAFswiNj6MzDtXRhsfSxU3GMJrS95QlFfe7a%2BR4%2Bd8J47IcKq9fEYed3y8tLE0a01o3dxpuVo6Wcr2u0up9J0UUV3Hy4UUUUAFFFFABRRRQAUUUUAFFFFABRRRQAUUUUAFFFFABRRRQAUUUUAFfL/AO0DrH9mf8FZf2abLdj%2B0fhf8TLfHriXwvL/AO0q%2BoK%2BNf2xdXOlf8Fjf2MYS2EvfDXxQt3P1sNGcD/vpBXLjJ%2Bzo83nH8ZRX6nucO4b63mfsv8Ap3Wf/gNCtL/20%2ByqKKK6jwwooooAKKKKACiiigAooooAKKKKACuJ8V/CL4T/ABog1fwt8Yvhh4d8WaZb%2BIIrqDTvE2iwX8Ec62UKLKsc6MocK7qGAyA7DOCa7avJ/jv%2B1b8Av2PvDWo/Ev8AaL8e/wDCO6JfeK4dMtb3%2By7q733T6ekqx7LWKRxlIZTuKhflxnJAOOInh6dCUq7SglrzWtbzvpb1GsfLKn9bjWdJ09edScHHpdSUouO%2B6kt99RP%2BGB/2Ff8Aoyz4S/8AhudM/wDjFH/DA/7Cv/Rlnwl/8Nzpn/xivJP%2BH5v/AASy/wCjov8Ayydc/wDkKj/h%2Bb/wSy/6Oi/8snXP/kKvF%2BvcK/8APyh/5T/yNP8AiKWJ/wCh7P8A8LKv/wA0H0l8NPhF8J/gvoUvhb4O/DDw74T0y4u2up9O8NaLBYQSTsqo0rRwIqlyqIpYjJCKM4ArxX9pX9hfxX8ePF3xK1Pw/wDGfTdC0f4q/C%2Bw8IeJdOvfCEl9cQtZS6nJbXdtOt7CqDOpyCSJ4pN4iTa8ZLE%2Bk/s0ftW/AL9sHwJd/Ev9nTx7/wAJFoljq8mmXV7/AGXdWmy6SKKVo9l1FG5wk0R3BSvzYzkEDH%2BJX7Zfww%2BFfizxL4F8S6Drz6x4cl8MRx6fa2sDSat/b9%2B%2Bnae1pumUODdxTROXMezyXY/IAx9rDzw9ShGVBpwa05bWt5W0t6Gbx8s1f1uVZ1XU153Jzcul3Jyk5bbuT230PKv2vv8AgmPL%2B1Z8erf4y3PxS8O2cUMvhia3j1/4dprGpaPJo%2BrHUCNJvXu4xpqXeRFcbYXdwoIcYCjY8O/8E7F0HXdV1s/F8Tf2noPxM03y/wDhHtvlf8Jd4ih1nfn7Qc/ZPK8jbx5%2B7fmLGw818ev%2BCsfw78HeG/j34G%2BGmlW8fxL%2BEfwl8W%2BL9J0zW9a0nULTUDosPzmaHS9SmurZPOltcw3S2kzpMdgyknl95q37eGg%2BH/iP4k%2BFOm/DrxX418S6f8QLnw/pfhnwno1nBdGG20TTNUurky3moJDLDEuowgys0Ds88cKQOyiSXYR6p8Gfh94j%2BFngTSPh3qfimy1Sw0Hw/p2mabJBpL20x%2Bz2ywySSsZ5FfeyBlVVTYDtJk%2B9Xjnwd/YV8c/B/wAa2fiCy%2BOmmahpngrQvEWm/CLRrrwY6jQhq13Fcs2oSLfA6mLcQRW8SxizPkeYHZ5GEy9l%2BxB%2B0jqn7T37Mvw8%2BLvizRzZ654t8A6b4i1GKx0S8t7CM3SE7IpJgyhgVbMJkaVAVLgBlJ878E/tjfGzXvjzoMurab4WHw28Y/GLxJ8NtB0%2B3025XWrO/wBHtNUlfUZ7prkwywyz6JfxC3W3RkWW3cyv86gA3PFH7DfiDxH8dL/xuvxktoPA/iD4haJ488U%2BDP8AhGC13eeINKtLO3tZIb/7UFt7UnTdNmeA28jtJakiZRK4q/8ACX9nD9pf4b/Gz4t/FzVP2gvAupQ/EbZcaNplv8Lr23bRry3tYrSykmlOtSC8iSGIebEqW7SuSySQD5K5T9pr9sb42/Cv4p%2BMX%2BHmmeFm8G/CbRfDep%2BO7bWdNuZtR1iPVL64imjsZo7mOO0a2tbfzw0kVwJ5JRFiEKZDzvwp/bw%2BPnxG/bHvv2fLnT/Ddlp1x4h8XaPp8Fx4L1OFbH%2ByXKWt2msyXQsNbkmASSbT7NI7i0EkiysrWspIBr2v7Bn7Sh/YA8efsR6p%2B1H4HlvPG0fiGzHi23%2BEl5HFZWGtS3ct5H9jOuMZJle9m8qXz1VFVA8UhBLdX8fP2WP2jv2ivgHP%2Bzx42/aC8CW%2BkeJvCdxoHxBu9P8AhRc/ab2GbejyaaZtYkXT5BC2FMy3gWVRKBxsry/Q/wBvH9pK5v8AxP8AB9T4W1HxZF8QvDnhXwz4o1L4a6x4btEm1FbiW6muNEv71r2WG3t7SWSK4SeOC9dxHHIvlSyCh4w/4KAftM6LaeF4da1Lwr4SsNNvvHWl/FL4gv8AB3X/ABLo1je6FqljaWk3l2F/EdKtrq3nubtpLuZ0hEDRmVvLaRgD1HX/APgn8%2Bo/H6%2B%2BJGi/EzTtP8K638TtI%2BIPiDw%2BPCZk1W413TtPtrGExan9qAhtXjsrYyRG2kkbM6iZUnKjK%2BBn/BP/AOLfwMl0TUdM/aO8P6nfeA/hnc%2BB/hvc33w4kHlWE15Y3Lz6zt1INq91/wAS63HmxtZjdJcybd07EavxY/bR8Z6X%2B2H8LvgP8H9G0PVPCeteMG0H4i%2BI7sSSvbXVx4d1TWbKzsWjkVPPEWnxzzmQOFhvLYKpM%2B%2BPh/if%2B3t8evgN8SfiZ4E8V2fh/wAWnwx8Or7X9DMXw/1bwskd%2BL60tLGy8%2B/urhNZgka8Xzr2xAjtjABIoa5iQAHb3P7BPiLxN8BPip8JfHvxpsrjVfjX4yh1f4h6pofhI2NjNZNBpthe6da2TXcrwLc6bp5t2lknmcS3Usx3jEVXP2o/2GNY/aC8WeINQ8LfF%2B38MaJ8Q/h9b%2BBvino83hk30msaBBcXcscNnMLmEWE%2BzUtShMrR3C7LvIjDRq1c1P8Atk/HjwDpvj34JeOLTwj4j%2BLui%2BJLHRfBEmgaPdafpWtNf6Yt9HdTWst3cTW8VoiXslyouHLQ2O6NleZIlPC37Wv7SXiXwH%2Byd8X/APih4NE%2BNlro8PjrSf7BvGuory%2B8O3eql7Cb7YEt4kktgmyWO4ZlfG4EbiAd3c/s5/tAv%2B2xP%2B09afHfwhF4Zk8HHw5F4Rb4cXTahHb7mnWQ6j/awiaQXR3k/YwpiHlbQ376ovBf7Mvx7sfHPjP40/ED9ofw7eeOvEHgOLwxoOpeGPh7LpmnaWkMl1NDdz2k2pXUl7Ms1yWwZ40CKUVUMju0XjH4zftC/Dv9rvwN8JdT8QeBtd8P/ELUtVjtfDeleHLyDWtA02z06a4/te5u2vZIriAXSWlm6i2g2yanBiRipD%2BbeOP2y/2q/gofir4R8Yy/D7xrqngPwx4d1KfxH4V8LajYad4cn1PUHtpotRge%2BupLhbS0A1JzFLDIbZTujhEkUjAHe337DWr%2BB/hv8I/Dn7NHxZs/CXiH4O%2BHpNB0PXPEPhhtZt77T5rOO3uVubZLu2d5ZJILe580TAiWEFhIrOrc94c/4J9fFT4f/EP4TXPgT9oXw7c%2BBfg94P0/RPC3g7xf8PbjUJormKIwXesC6g1W2j/tCe3JhSWS3kW3V5vLT99KHzvhT%2B2X8Vfjr8GfiH4s8B/tH/BqyT4SeNLnTPFXxSufCF7d%2BGtW09NGsdVF5aW6avG0CKl%2BsTyG8mTdaysu5XXbU%2BIP/BQ3426b8LPgnrPhb4R6Xp3izxfdfD2%2B%2BLOia/FcOnhXTPEWuabo5t1CtFIt7JNe3BgEowq6dctKmVWNwD1XVP2bPjV41%2BP2lfGP4k/HHw3d6f4ROtHwNo2ieAJbOeD7fEYFTUbmTUZxfxRREZjiitVkkRJG5RAvLfAr9hPxx%2BzpD4x8c/CXxt8LfD3j3xeul2k914b%2BDLad4bttPsXupI4V0iDVFlaZ5L%2B8ke4a83M0iDGyNUrmPAP7efxp8S/t3r%2BznrGjaFD4fuPHet%2BHVsj4S1GB4ILHTHvIr2LXnuDp2o3ErIofSoIhdW8cskkh22kpP17QB5P8GfgVe/s9fs%2Ba94M1jxmmvanqWoa9r2sajb6Z9htWvNRubi8nW2tfMk%2BzwLJMwSMySNgZd3dmc0fHH/KQv4X/APZGfHn/AKdvCFepeOf%2BRJ1j/sFXH/otq8t8cf8AKQv4X/8AZGfHn/p28IUAezUUUUAFFFFABRRRQAV4L%2Bx//wAm9av/ANl78c/%2BrA1Wveq8F/Y//wCTetX/AOy9%2BOf/AFYGq0AdZr/7E37GXivXb3xT4p/ZH%2BGOpanqV3JdajqOoeAdOmnup5GLySySPCWd2YlmZiSSSScmqn/DA/7Cv/Rlnwl/8Nzpn/xivO/H/wDwWU/4JufC/wAd638NPHX7R32HW/Dur3OmaxZf8IhrEv2e6t5Wilj3x2jI%2B10YblYqcZBI5rI/4fm/8Esv%2Bjov/LJ1z/5CrwZ43hhTalOje7vf2d79b6b3vc0/4ibiaH7pZ5OPLpb63VVraWt9YVrWtayta1lay9m0D9ib9jLwprtl4p8Lfsj/AAx03U9Nu47rTtR0/wAA6dDPazxsHjljkSEMjqwDKykEEAg5Fa37TXwTsv2k/wBnTx3%2Bz3qGvy6TD438I6hob6rBAJXs/tVu8ImCEgOULhtpIDbcZGc1414B/wCCyn/BNz4oeO9F%2BGngX9o77drfiLV7bTNHsv8AhENYi%2B0XVxKsUUe%2BS0VE3O6jczBRnJIHNe4/HX4w%2BHP2ffg94j%2BN/jLTNRutG8K6VLqesppUKSTxWcQ3TzBXdAyxxh5WGc7Y22hmwp9DA1strQk8HKDSevJy2v58qWtu5MuJKnEn72eNeJ5NLurKry31teVSpa%2B9k1fe3U8j8RfsTfELx/oPxdl8e/H21i8SfFv4d6b4Zvta8J%2BFZtNh02SzGohbmKKS%2BnkZHF%2BA0RmBxE2JB5g2cN8Ef%2BCU0Xwi8RQ%2BJofiT4QsNvxcHjl9B8BfC%2BPQNIgYeEbzw4bO2tUvJTCG%2B1C7aVnkZnRlI%2BcOnovxn/4KIfB34LaX4u1zVPDep6hY%2BCvFtn4b1jUR4g0HSrR7%2B402LUQkNxq%2BpWcMmyCeAMA%2B/fMFRX2SFORtf%2BCjuk%2BKfH0d/wCCbi0uPAWueDPhJrvhHVYtCknvLr/hMPEGraaVmR7uFY4xFZ2ZVgC8DSTOyXOFgruJOr%2BBv7FHiH4BR%2BBLvwj8XLK5v/A3wN0r4dW8uoeF3aG7%2BxyQMb5o0u1Zd6wsBCHOwuD5jbdrdZ%2B0b8AvHHxU8QeD/iZ8H/ifp3hHxn4Jvbx9K1TWvDT6vYz2t5atb3NtPapdWruD%2B5lVlmQrJbx53oXRvMPBv/BRo/Ez9orwf4I8IfB/xNZeAfEfgrxZr9p4s1TQlnbxDDpNxp0Mc%2Blx2VzNOY3%2B1St5U9uk8waBoUIJz6T%2B1J8aPiB8PdG8C%2BFvg4mkQ%2BKPiT43t/Duhah4n0ue4stNzZXmoT3M9rHNbyzbbWwuAsQliJkZAWUZoAp%2BHf2WNY8Bfsu2v7K3gzxT4X1DQ9M8D2GhWP8AwnfgltYjvJ49wu7nUIFvII7uO4TbmBBDscyNvdXVE87s/wDgmvF4b/Z5f4L%2BEb34SPeat4ym8SeI5/E3wPh1HRku3gS3iOmaSL%2BKPTjbwQ20UBeS42pB84lZ2c9DpX7XXxTf9gnxr%2B0e/wAO7LWPHHgX/hK9MvtE0eG4FnqGp6HqV9pss0MYMk628slkZxEDJKsb7Mu4yeT%2BCP7ZnxH%2BPXg/4maP4K/aa%2BEF1f8Aww1Cyu9Q%2BKWl%2BBr2%2B8M6jo8%2Bnm6Zo7ZNZVklhkSeN5FvZox5ByodmjiAPSPCv7FHhPwVe/A3RPD/AIruP%2BET%2BBOgXNr4f0C8tRLNe6gdPj0211GW43Ab4rOTUUK%2BWfMe/L7k8va/OeEv2AH8IftCaf8AEvTviVpkfhDRvifrXxC0vwza%2BEvK1M69qun3dleG41P7SRNakX91KsItkkDeSrTMkQQ%2Bf%2BM/2nf%2BCgWmf8E8vBH7VOn%2BIfhbpXjvxRoumCDwbq/wy1OePUtX1m9ht9Is12a5G9l/x92qXAY3JRhM4IVdtXfGf/BQ/wAb/Dn9sIfBPxrr/gmz04fE7RvBlr4JfSbpfEmqwahp1tLH4jgm%2B1eUtgL25%2BylPs7oDBIDdCYiAAH1dd/8jtp//YKvP/RltWpWXd/8jtp//YKvP/RltWpQAUUUUAFFFMnngtYHubmZI441LSSSMAqgckknoKASbdkPorwX4x/8FPf2DfgZcNpvjX9pXw9c6ir7BpHh2ZtVuzJ0EZis1kKMTxh9vWuA/wCHjv7RPxd/c/sjf8E4PiP4ggk4h1/4gTQeGbBh/wA9YzcF2mTvgbSenWvMq5xltKbh7RSl2jeb%2B6Clb5tH2%2BB8OONcdhling5UaL2qV3HD0/lPESop/wDbsZ/lf65or5HHwx/4LF/Gf9742/aR%2BGHwfsZeln4F8Kya5eqn92SS%2BIjD9t0ZwOopf%2BHSPhHx8fP/AGof2uPjN8TvM/4%2BNL1bxo9lpbeu21tQmwHvh6j%2B0MbV/gYWXrNxgvuvKX4I6v8AVHhjAf8AI0zyimt44anWxUvTmUaFG/8A3EkvPqe0fGH9tX9kn4BQyv8AF/8AaK8I6JNDnfYXGtRPdnHXbbxlpW/BDXiy/wDBW7wl8RWK/spfsl/GH4qW7f6nXdG8IPZaTJ6f6VdFCufdOlen/CH/AIJ0fsNfAmaG8%2BGP7L3hGzu7fHkaheaYL66jI7rPdGSQH3DV7QqqihEUAAYAA6Ueyzqv8dSFNdoxc3/4FNpfdEPr/hnla/2fBYjGy/mr1Y4eH/gvDRqVH/29XX6nyV/wvz/grx8SP%2BSf/sKeAPAMUn%2BpuviL8RRqHHZmi05Q6/7vUUH9n3/grl8R%2BfiB%2B3r4G8BxP/rrT4d/Dhb7I7qs2oMHX/e619bUUf2Tz/xq9SX/AG/yr7oKP5i/1/eF/wCRdlWCodn9X9vL/wACxVSv/wCkHyUv/BKrUvFObn4y/wDBQn9oTxJM/wDrra08djTbJvpbwxYX8Gp9v/wRO/4J93cy3fjr4eeI/Fk6nIn8S%2BO9UmYn1ISdAfxFfWVFH9hZQ/ioqX%2BK8v8A0qUgfip4ixVqOZVKK7UfZ0F8vYUqX5nz1pP/AASg/wCCc2iwLb2f7IvhF1Xobu1kuG/FpXYn8TWzYf8ABNv9gHTWDW/7G/w4Yj/n48JWso/8fQ17ZRW8cryyO1CH/gEf/kTyqvHnHNdt1M1xTv3xFf8A%2BWo8vsf2Iv2L9LAXTf2RfhhbgdPJ8A6cv8oa0V/ZR/ZbRBGn7NfgAKOijwdY4H/kKu/orZYPBx2pR/8AAY//ACJ5s%2BJOI6rvPHV361qz/OszidM/Zp/Zy0WXz9G%2BAHgm0fOd9t4Vs4zn6rGK6rSPD%2Bg%2BH4TbaDolnYxnrHZ2yRL%2BSgVcorWFGjT%2BCKXokvySOLEZhmGM/wB4rTn/AIpzl/6VOQUUUVocYV4z%2By//AMlv/aO/7LNY/wDqFeF69mrxn9l//kt/7R3/AGWax/8AUK8L0AezUUUUAFFFFABRRRQAUUUUAFFFFABRRRQAUUUUAFFFFABRRRQAUUUUAY/xA%2BInw/8AhN4Ov/iJ8U/HWjeGfD%2BlxCTU9d8QanFZWdohYKGlmmZUjBZlGWIGSB3p1p4%2B8Cah4Ei%2BKNh410mfwzPpK6rD4ih1KJrCSwaLzhdrcBvLMJiIkEgbaV%2BbOOay/jd4i8PeEvhPrviLxToWqanZWtkWkstF8NXesXUjlgI/Ks7OGaeZg5U4jjYrjdwFJHyH4RtvFHxM/wCCMngn4J6D8JvHY8TeHfhP4Tj8R%2BD9e%2BH%2Bq6VdXkelNp/9p6YqX9tCJZZY7a5gWLJ84OCu5G3UAfZHw1%2BKfwx%2BM/hC3%2BIPwe%2BI%2Bg%2BLNAu3dbTXPDWsQX9nMyMUcJNAzIxVgVODwQQeRXxh/wAFHNT/ALE/4KyfsQanuxm78b2uf%2Bu0eixY/wDHq9y/Yng1bXfGvxr%2BMkHg3XtB8N%2BO/iZb6l4Ws/Evh660i8uYYfD%2BkWM949leRxXFsJLm0nULLGjOIRLjEisfkv8A4Kof8LX8M/8ABUn9jrxD428a%2BHr/AEKf4g6jB4csNK8MT2d1p8Ut/oEUgurmS9mS7Lb0wyQ24XDZDbht83N5cmXTl2cf/S6Z9t4dUPrXGOHo/wA8a6%2B/C4v/ACP0vooor0j4kKKKKACiiigAooooAKKKKACiiigArK8P/wDIW1z/ALCif%2BklvWrWfe%2BGNIv7t7%2BQXMUsgAke1v5oN%2BBgFhG6hiBxk84oA0KKy/8AhD9J/wCfvVf/AAeXf/x2j/hD9J/5%2B9V/8Hl3/wDHaANSvKfir%2Bx58KvjB%2B0b8Pf2nPFF/rMWufDkXn9n6fY3caWGqGaMrEb6Jo2af7MzSSwbXTy5JGb5uMehf8IfpP8Az96r/wCDy7/%2BO0f8IfpP/P3qv/g8u/8A47QB81ah/wAEkvghrGl%2BIfDOsfGj4k3Oh638PfGfgzTtCfUtNW20HS/E80U2pfZNliJHmEkKGOa5e4ZeQ5kGAO18VfsE%2BAdZ8far8WfCXxY8b%2BEvFmqeM7nxEfEXh27sDPbNc6TYaVc2UaXVnNEbWWDTbR2V43kWWMOkiEKF9g/4Q/Sf%2BfvVf/B5d/8Ax2j/AIQ/Sf8An71X/wAHl3/8doA5P9nL9njw/wDsxfCvwt8FfAfjXxBfeG/CHhOy0HSLHW5raZvLtgyrcySpAkkk7qVVyW8siNSqKxZm5fQP2Hvh14d%2BOa/Gqz8e%2BK5Le08Saj4k0TwVNdWh0bSNdv7WS1vNUt1FsLnz5Yri7BSSd4Va8uGWJWkJr1T/AIQ/Sf8An71X/wAHl3/8do/4Q/Sf%2BfvVf/B5d/8Ax2gDyH4kfsH%2BBPir40s/Gvi34s%2BNWebStE0/xvp9tPp8Vr41j0m7e7sjqSLZ5UrPLMz/AGM2qyrK0UgaILGtfQP%2BCf8A4D8M%2BPv%2BE00j4yePUs7HXfEOveE/DTXmnmw8M6zrX2s32o2Z%2Bx%2Be8pa/vmRLmaeGP7VIEjC7VX2b/hD9J/5%2B9V/8Hl3/APHaP%2BEP0n/n71X/AMHl3/8AHaAPFbv/AIJ8%2BD9et9e1zxx8efiFr/jXW7rQp4PiNqE2kxatpR0a4uLnTVtY7XT4rFEilu7xir2riUXkyy%2BYjbRLqX7BulT/AAbT4F%2BH/wBpX4l6Jol//bD%2BM5NMm0c3XiybVLiS4vp72ebTZHhkkkmnwbI2vlrKVjCBIhH7L/wh%2Bk/8/eq/%2BDy7/wDjtH/CH6T/AM/eq/8Ag8u//jtAHjnjL/gmf%2Bw940%2BKPgf4z3X7N3g6z8T%2BAvEtrrWm65ZeFNP%2B2X01tp09hbRXdzJA808cKSxyxjeGSaztXDfugC3Xv2AfA/xFv9d1H47/ABo8e/EF9X8F6p4U08eIrnTbYaHpmoy20t0tmdNsrU%2Baz2dmwuJjLMhtUKupLl/Zf%2BEP0n/n71X/AMHl3/8AHaP%2BEP0n/n71X/weXf8A8doA8c0//gnR%2BzTrfhzWdK/aF8K2vxm1PxBrX9q6p4k%2BLPh3SdSu2uVs4rKJoo47KK2thHbwRoohhQffdtzyOzYkn/BNDwBofws%2BDXwZ%2BD/x58efD3w/8D/Il8K2XhCw8PAXt5FaTWv228F3pM4knkjubppDGIkeS5kkKb9rL79/wh%2Bk/wDP3qv/AIPLv/47R/wh%2Bk/8/eq/%2BDy7/wDjtAHlng/9jb/hCv2nvFH7UenftJ/EG4v/ABc8S6t4d1CHQ5tPS1hgaK2sYZG0z7bBaws7zrElyAZpJJH3mWTdnfs9/sN3/wCzf8OvEHw78IftffFLUxr81xeSa3rtt4cl1G31KeYyzal50ejx/abl2OCboTptVUCBVUD2T/hD9J/5%2B9V/8Hl3/wDHaP8AhD9J/wCfvVf/AAeXf/x2gDwbx1/wTd8G%2BPPh3aeBb39on4k2t03xBj8aeKPEcD6LNd%2BK9Xiijit5NShudMls5YoVgtPKgjt44kNlbEL%2B6WtL47/8E1f2SP2odC0eP9o34U6D418S6Ve6FcT/ABA1/wAH6NLrmorpeoQXyW884sgn2edoGhnhjjjR4bieNRHvyPZ/%2BEP0n/n71X/weXf/AMdo/wCEP0n/AJ%2B9V/8AB5d//HaAPJfC/wCwl8O/Cvxls/itb/Enxjc6dpPjXVfGGg%2BBLu7szo2l69qUN3DeX8W21W7ZnF/fN5UtzJCj3cjJGpCFPbqy/wDhD9J/5%2B9V/wDB5d//AB2j/hD9J/5%2B9V/8Hl3/APHaAE8c/wDIk6x/2C7j/wBFtXl3jj/lIX8L/wDsjPjz/wBO3hCvUT4M0N8LO19MmQTFcatcyI3sytIVYexBFeXeOP8AlIX8L/8AsjPjz/07eEKAPZqKKKACuO%2BPHxs8Nfs/fDqX4ieJtI1PVN2pWOmaZouiQxyXuqahe3UVpaWkCyyRx%2BZJPNGu6R0jQEu7oisw7GvL/wBrf4N%2BM/jP8MLCx%2BGt5pkXibw14w0XxLoEetzyRWV1caffw3JtZ5Io5HiSaNJIfNWOQxGQSBJNmxgDNh/bY%2BGS/s76r%2B0Lq3hPxLp66Jr7eH9V8H3VnbtrEGt/2gmnR6ZsineBppbqWGON1mMDieOQS%2BW2%2BsO9/wCCgvgy20uy023%2BB3jy58b3fjmfwlJ8Mov7HXWLXVIdL/td45ZpNRXTwv8AZzRXQcXZDJNGFy5KDL8HfswfFdfgT8RfA/xc%2BGfgLxPqfxG1zUPE2q6KPGd/b6emoz3CeRYpdJp/nxRwW9vaFdQSMTfaEaRbeLC48jP/AAS6%2BIFt4FFxrXw3%2BG3jmTXvi3d%2BNPG3wm%2BIXi/U9U0C/L6FDo9qsmrX1jd3V9Pbraw3Pm3NqwklllwsWyFkAPsX4IfGDwf%2B0D8HvDHxw%2BH7XR0TxZodtqul/brfyphBPGJFDpk7WAODgkZHBIwT5b%2Bx/wD8m9av/wBl68c/%2BrA1Wun%2BAf7PGr%2BA/wBkXwv%2BzZ8VfG%2Bo6pd6X4Xt9M1XV9B12%2BsJsoo%2BS3u4ZUuo1jAEaSeYspRAWOSa5n/gnv4P0TRf2Y9R8EQm9ubCy%2BLXxCtYW1TVLi9uXSPxprQVpLm4d5ppOATLI7SM3zFieaAPeqKyv%2BEP0n/n71T/AMHl3/8AHaX/AIQ/Sf8An71X/wAHl3/8doA1Kqa9oWj%2BKNDvfDPiLTYrzT9RtJLW%2Bs7hN0c8MilHjYd1ZSQR6Gq3/CH6T/z96r/4PLv/AOO0f8IfpP8Az96r/wCDy7/%2BO0AfP3gn/gmD8KPhp8I/Afww%2BHnxq%2BI%2Blah8Ptb1PVNL8crqen3Ot3kt%2Bk0V0LqS5spIJN0U3lK6wpLGkMQjdNpJseBv%2BCYnwD%2BH/hrw94V0Txb4wktvDXhr4eaHYNd6lbPI9t4N1W71TS2kb7ON0ks95Ktw3AdFQRiFgXb3n/hD9J/5%2B9V/8Hl3/wDHaP8AhD9J/wCfvVf/AAeXf/x2gDxD4bf8E7vAvwp%2BIml/EDwl8dfiIq%2BF/Deu6F4D0K4vNNksPC1nqs1tNMlohsd8pie0g8k3T3GxU2Hcny16R8c/gHonx38G6X4c1fxpruiapoGtWuseHvFmgParqOmahAGVbmITwS27Fo5JonSSF43jmkUpg8dP/wAIfpP/AD96r/4PLv8A%2BO0f8IfpP/P3qv8A4PLv/wCO0AcX8Nv2bbD4RfDCH4V/D34q%2BKrC1TTtXW41EmwmvLrVNSumvLjWpHltGU3v2mW4mACi2L3Mm6BwIwnM3P7CvgDXfgr8Qfg747%2BJ/jLxHN8VW2%2BP/F2qXNjHqmrW/kRWxtD9mtIraC3NrF9n8uGCMbJZWGJZHlPrX/CH6T/z96r/AODy7/8AjtH/AAh%2Bk/8AP3qv/g8u/wD47QBgfE34F%2BD/AIr%2BIvAuveJ7y/SLwB4o/t/SdLtJI0tbq8WyubSL7QpQl0iF08qKrJiWOJznYBWP4v8A2aLP4g/GXSfip45%2BLvi7VNK0DVItV0P4fznT00Wz1GKBoY7v93ZreTOu95FSa5kiWVhIIwyRlO3/AOEP0n/n71X/AMHl3/8AHaP%2BEP0n/n71X/weXf8A8doAS7/5HbT/APsFXn/oy2rVrwj4%2Bft0/sa/si6k2mfEX4rR3HieYCG28LaVcTatrE7E/LEtujO8W49N%2BxSR14rzQfG//gp9%2B1t%2B6/Z9%2BBOnfAzwncfc8Y/FSMXWuSRn%2BODS0ysLjj5ZyVI6NXm181wlKo6UG6lRfZguZr1tpH/t6S9D7XLOAOIcfgo4/ExjhMLLatiZKjTkv%2BnaknUrelGlU/xI%2BrPGvjzwP8NfDs/i74i%2BMtK0HSrYZuNT1nUI7W3i/wB6SRgo/E18zeJP%2BCuXwT8R65P4J/ZF%2BF/jf4367A/lyp4E0OT%2BzbZ/%2Bm99MFjjTp86h15HNSeCP%2BCSvwQ1HxFB8Rv2t/Hvij45%2BKojuW9%2BIGoM%2BnWzHqLfT0IhjjP/ADzfzFHavp3w14X8M%2BDNEg8NeD/DthpOnWqbLXT9NtEgghX0WNAFUewFZf8ACziv5aMf/Bk/0gv/ACY72/DXIdEq2ZVV1u8Lhr%2BS9/FVF6%2BwT7K58orYf8Fiv2iT5t7rnw7/AGe9Fm%2B7BZ248T67GD1DM2LQ8d1wQc1LB/wSH%2BF/xAnTUv2uv2h/il8YZ9weXT/E3i2a10sMOf3dpaFPLGedu8ivrein/YuDqa4hyqv%2B/Jtf%2BArlh/5KyX4mcR4T3cnhRwEen1alCnP515KriG/P20X6HAfBz9lT9mv9ny3WH4KfArwt4ZdV2m60rRYo7iQdPnm2%2BY592Ymu/oor0qVKlQgoU4qK7JJL7kkfEY7MMfmeJeIxladWo95TlKcn6ylKT/H7goorO8Q%2BL/CfhK1N74r8T6dpkIGTNqF7HCoH1cgVbairtnHKUYq7dkaNFeP%2BL/8AgoL%2Bwx4EZovFH7Xfw6glT79vF4utJpV%2BscTsw/KvPNU/4LS/8ExdIvPsN3%2B1Xpzv/etdB1OdP%2B%2B47Zl/WuGpmuV0XapXgvWcf/kjza2d5Nh3ariacfWcP/kj6jor5Uvv%2BC2f/BMy2t1ex/aRGozyNthstN8KarLNK3oFFr/PAqov/BX74X6p/pPgn9kH9onxLZH7mp6F8J5pIH%2BheVD%2BlYvPMnvZV4v0fN/6SpGD4jyC9liYS/wvm/8ASFM%2BtqK%2BSv8Ah7f4XTm4/YL/AGn4V/vy/CFwP0noP/BXLwhc/uNB/YW/aY1O6PS0s/hJJvH13TgAe9H9uZT/AM/V90//AJWL/WPI/wDn8v8AwGp/8qPrWivkof8ABTj4tN/pcf8AwS6/aE%2ByH7jt4ZgEx%2BsXnZH50f8AD125seNf/wCCbf7Utp/eki%2BFImjH/AluP6Uf23lnWbXrGp/8rD/WPJutRr1hVX/uI%2BtaK%2BSv%2BHwHwmg41X9k/wDaEsWH3ku/hROCv1xIaP8Ah8R8DZvk0z9nD473sneG1%2BFdyWHtywo/tzKP%2Bfy%2B6X/yAf6yZF/0ER%2B6X/yB9a0V8lH/AIKtXurnyvA//BOT9prU3P3ZZ/hmLWA/9tHn4/Kgf8FAv2x9T%2Bfw1/wSc%2BJMqt9w6p4l0%2ByJ%2BocnFH9t5a/hk36QqP8A9xh/rFlD%2BGcpf4adV/lSPrWivkr/AIa6/wCCouv/ALvwz/wSfj09T0utf%2BNGlqB9Y449360f8La/4LMXvz237I/wfsg3IS88e3EhX2JjXB/Cj%2B2MO/hp1H6Up/qkH9vYV/BSqy9KNT9VE%2Bta8Z/Zf/5Lf%2B0d/wBlmsf/AFCvC9eYf8Jx/wAFsLn/AFHwN/Z/ts/8/HibVHx/3wK6L/gnXc/HC81v483P7R%2Bm%2BGrPxo3xmg/tm28ITTyacn/FI%2BGxD5TT/vD%2B58otu/jLY4xXRhsdHEzcVTnHzlBxX3tvU6sJmUcZUcFSqR0vecHFel23r5WPpOiiiu09EKKKKACiiigAooooAKKKKACiiigAooooAKKKKACiiigAooooAKKKKACvzl/4Lef6D%2B1D%2BzH4s6f2Bqmpahu/u7de8Jpn/wAiV%2BjVfnL/AMF7v9Bm8HeLOn9gfD/XNQ3f3dvivwOmf/IleTnumTV32i39zT/Q/QPCnXxJymH89eMP/BkalP8A9yH6NUUUV6x%2BfhRRRQAUUUUAFFFFABRRRQAUUUUAFFFFABRRRQAUUUUAFFFFABRRRQAUUUUAFFFFABRRRQAUUUUAFFFFABRRRQAUUUUAFeM%2BOP8AlIX8L/8AsjPjz/07eEK9mrxnxx/ykL%2BF/wD2Rnx5/wCnbwhQB7NRRRQAUUUUAFFFFABXjP7B/wDyRDXP%2ByzfEf8A9TXW69mrxn9g/wD5Ihrn/ZZviP8A%2BprrdAHs1FFFABRRRQAUUUUAFFFFABRXNfFv4xfC/wCA/gO9%2BJ3xi8c6f4d0HT1zdalqU4RAT0RR1d2PCooLMeACa%2BVpv2q/20v27VfSf2Fvh63w4%2BH84KzfGn4h6cRPdQnrJpenNzJxyssvyEZB8thXBi8xw%2BEmqbvKo9oRV5Pzt0X96TivN7H1eQcG5xn%2BHljFy0MJB2niK0vZ0Yvfl5mm6k7aqlSjVqP%2BWKfMe3ftUftzfs%2B/sh2NrbfEnxFcX3iPVCE8P%2BCPDtsb3WdWkY4VYbZDnBPAdyqZ43ZwD4lD8LP%2BCg37fcq6l8efFd/8APhjOd0PgXwhqAbxPqsXb7bfAYtFYdYoxnBKOmQGrlvAfxH/AOCXP/BOjxRc3Q%2BK158V/jPrDsur61Yq/iXxPqlwR88StDuS1Bxjyi8eQFDFyAa7gftKf8FQP2jT5X7Of7HGkfC3RJv9V4p%2BNeqN9rKHqV0y1zLFIB0EhZSevevCqYuOMm44mbl/06o3k/8AuJONr%2BcVKEe/Mb1/EHgrg6o8NwtT%2Bt4uOjxU6SqSi/8AqHw/v0qC7VMRKpX6qNJ7ezfs4/sOfsq/sn2uPgb8GtK0q/dSLnXZozc6lck/eMl1MWlIJySu4LknAFeh%2BKfHfgjwNafb/G3jLStHgxnztV1GK3TH1kYCvllP%2BCbPx2%2BMLC%2B/bI/4KG/EbxOrnc/h3wG0XhrSx/0zdLcM06jsxKsepra8K/8ABGb/AIJweGLv%2B1Lr9nWHXL5jma%2B8S69f6g8p9WWadk/JRXo0JY%2BnTUMLhY04LZSkl/5LTjL/ANKv5nwOZ8Q8Y8Q42WMxcHUqS3niKzlN%2BvKqj9FzJLolsdn44/4KT/sCfDuOR/E37XvgHdCD5kGm%2BI4b6VcdvLtjI%2BfbGa82P/BYz4D%2BMZDD%2Bzj8CfjF8WAThLzwR8O7lrX6tLc%2BVtX3217d4J/Y3/ZI%2BG0kc/gH9mH4f6RNEQUuLDwhZxygjofMEe4n3JzXpCIkaCONQqqMKoGABW3ss6q/FVhD/DByf3zkl%2BBwew4hrfHXp01/chKT%2B%2BpJL/yU%2BSv%2BG4v%2BCgfi7/klv/BJrxKYm%2B7c%2BMfiNpukFB6mJ1Zj9Ac0Hx9/wWp8ZjytA%2BAPwL8FiTjzfE/im/1Foh64swAx9O2a%2BtqKP7NxEv4mKqP05I/lBv8AEP7Jxc/4uNqv09nD/wBJpt/ifJA/Zd/4KrePz5/xE/4KT6J4Ujb/AFmmeAvhdayr%2BFxdt5ox9KX/AIdg/E3xH83xK/4Ke/tDXxP308PeLIdIjb22xQtx7V9bUUf2LgZfxOaX%2BKpUf/t6X4B/q9lsv4vPP/FVqv8A9vivwR8k/wDDmn9mXVf%2BR/8Aiv8AGHxXn7//AAkXxOvJN/18vZWj4f8A%2BCLH/BM7w9dC/T9mS2vrjOXm1fxFqV5vPqVmuWU/lX1LRTWR5Onf6vBvzV//AErmHHhzIIu/1WDfnFS/9Kcjynwh%2Bwr%2BxZ4CVf8AhEf2Tvh1ZOnS4j8HWbS/jI0Zc/ia9E0rwZ4P0Kz/ALO0Twpptnb/APPC1sY40/75UAVpUV3U8Nh6KtThGPokvySPSo4TCYdWpU4x9IxX5JFSz0HQ9OuDd6fo1pBKy4MsNuqsR6ZAzVuiitUktjdJLYKKKKYwooooAKKKKACiiigAooooAK8Z/Zf/AOS3/tHf9lmsf/UK8L17NXjP7L//ACW/9o7/ALLNY/8AqFeF6APZqKKKACiiigAooooAKKKKACiiigAooooAKKKKACiiigAooooAKKKKACivIv2%2BviF40%2BFH7FHxT%2BJHw81mTTNZ0XwNqN1ZavDGGfTSsDbrxQwKkwLumG4Fcx8gjIryLwd4yvvgR4a/ai8GaF8Z/Flz4T%2BGvhuDVtC8T65rF14n1HQrmXQGu7qJJr2aSa78sJBeJBJI3N7tUrG0aqAfXVfn5/wXO0f%2B3PC89lszs%2BAfjG4x/wBcfE3gaXP/AI5Xef8ABMDUvjXoXxL8dfCr4369fm/t/h/4L8QWujN8UNQ8ZWka3y6rHJfpqWohZ4ZrmSzYPYoptoVtYpIZJftEhXjP%2BCoWueJPHvjHxf4Q1b4QeIdEs9F/Ze%2BJUthr2q3OnPaa0E1DwnKXtltruWdAnlDP2iKA/MNob5sefm8PaZViI94T/wDSZH2Hh5ifqfH%2BUV/5cVh3/wCV6X%2BZ9x/D7WP%2BEh8BaJr%2B/d9u0i2uN3rviVs/rWvXn37JWsf8JF%2Byp8MvEG7d9u%2BH2i3G7132MLf1r0GuvDz9pQhPuk/vSf6nz%2BbYb6nm2Jw/8lSpH/wGpOP/ALaFFFFannhRRRQAUUUUAFFFFABRRRQAUUUUAFFFFABRRRQAUUUUAFFFFABRRRQAUUUUAFFFFABRRRQAUUUUAFFFFABRRRQAV4z44/5SF/C//sjPjz/07eEK9mrxnxx/ykL%2BF/8A2Rnx5/6dvCFAHs1FFFABXHfHj42eGv2fvh1L8RPE2kanqm7UrHTNM0XRIY5L3VNQvbqK0tLSBZZI4/MknmjXdI6RoCXd0RWYdjXl/wC1v8G/Gfxn%2BGFhY/DW80yLxN4a8YaL4l0CPW55IrK6uNPv4bk2s8kUcjxJNGkkPmrHIYjIJAkmzYwBmw/tsfDJf2d9V/aF1bwn4l09dE19vD%2Bq%2BD7qzt21iDW/7QTTo9M2RTvA00t1LDHG6zGBxPHIJfLbfWf/AMN4eCT4X8xPg/42fxp/wnDeED8LEj0xtcXWBp41Q25cX32BV/s5kvfON2IvJdfn3sIzz/g79mD4rr8CfiL4H%2BLnwz8BeJ9T%2BI2uah4m1XRR4zv7fT01Ge4TyLFLpNP8%2BKOC3t7QrqCRib7QjSLbxYXHkaf8Eotdj8J2fjPXPh74G8V%2BJZPjJd%2BOdc%2BHXjLxrqmp6Dfwz%2BHk0EWU%2Bq3tpcXd66R29reG4ubV988br5camN4wD7d8Ja3f%2BJfC%2Bn%2BINV8KajoNze2cc1xourtA11YuygmGU28ssJdT8pMcjoSPlZhgnyr9g/8A5Ihrn/ZZviP/AOprrdX/ANn79nbWfAX7JHh39nH4reM7/Ubux0IWWpaj4f8AEF/YyRDeXWC1vIpY7tI4VKwxyB1kMcSk4JIrC/4J0%2BHrDwl%2BzdfeFtKuL6W2074t/EO2t5dT1Se9uXRPGetKDLcXDvNO5A5kkdnY5LMSSaAPdKKKKACiiigAooooAK8A/bq/4KJ/BT9hnwvEviiZdb8YapCzeHvBljdpHcXWM/vpnb5bW2XBLTycAK2AxUgcH%2B2d/wAFGvEnh34hf8Mc/sJ%2BEI/iF8atQVkuooMSad4UiBAe5vpMhA67hiNmAUkGQjKRy8N%2Bzd/wQ98DReNp/wBoD9vz4i3Pxg%2BIGqXAu9RtryRxpMc3GFKNh7pVxtUOEiC4XyQAK%2Bex2ZY3EzlhcripTWkqj%2BCHdf3pr%2BVXS%2B076HVleaZLhcU54ihLFShtSjL2dNy6KtWV5Rit5U6MZ15L3VKjfnXzp8Mn/bN/4KZfFm2%2BMdv4I0zxrdaddk6Prniy1mg%2BH/grn5lsrRvn1q9XoZXBRXAysqCOVfsJP%2BCWHiT4xhbr9ub9tH4h/E5H/wBf4X0q6Hh/QHH9xrOzOWx0DB1OM8c19a6TpGlaBpdvomhaZb2VlaQrDa2dpCscUMajCoiKAFUAYAAwKsUsHw5hqUG8VJ1ZS1ldtRb84prm/wC3nLskloY8QYzNOMMRCtnlX2kYLlp0YJ0sLRhvyUcPCSio9XKbqVKjvKpOcm2cJ8EP2Yf2ev2bNG/sL4EfBvw/4XhZAk0mlaciTzgf89ZiDJKfd2Y8V3dFFe/TpUqMFCnFRS6JJL7lY56NGjh6ap0oqMVskkkvkkkFFFFWaBRRRQAUUUUAFFFFABRRRQAUUUUAFFFFABRRRQAUUUUAFFFFABRRRQAUUUUAFeM/sv8A/Jb/ANo7/ss1j/6hXhevZq8Z/Zf/AOS3/tHf9lmsf/UK8L0AezUUUUAFFFFABRRRQAUUUUAFFFFABRRRQAUUUUAFFFFABRRRQAUUUUARXtlZ6lZy6dqNpFcW9xE0c8E0YdJEYYZWU8EEEgg8EGuR8Afs5fs9fCjSLPQPhb8CPBnhqw09rprCy0DwvaWcNsbkKLgxpDGqoZQiCTAG8Iu7OBXZ0UAcp8J/gR8D/gLpV3oXwM%2BDXhTwXY39z9pvrPwn4dttOiuJtoXzJEt0QO%2B0AbiCcACvnv8A4KBaP/wkPxNl0DZu%2B3fso/Fi3x675/Cy/wBa%2Br6%2Bev2jtH/4SH9rrwnoGzd9u/Z6%2BJFvt9d9/wCE1x%2BtY4mHtMNOHeMl96a/U9LJcT9TznC4j%2BSrSl/4DUpy/wDbTa/4Ju6x/bn7AXwbvd%2Bdnw30i3z/ANcrWOL/ANkr2uvmr/gj1rH9uf8ABNT4TXu/OzQZrfP/AFxvJ4sf%2BOV9K1zZVP2mV4eXeEP/AEmJ7nH%2BG%2Bp8eZtQ/lxWIX/ler/mFFFFd58iFFFFABRRRQAUUUUAFFFFABRRRQAUUUUAFFFFABRRRQAUUUUAFFFFABRRRQAUUUUAFFFFABRRRQAUUUUAFFFFABXjPjj/AJSF/C//ALIz48/9O3hCvZq8Z8cf8pC/hf8A9kZ8ef8Ap28IUAezUUUUAFFFFABRRRQAV4z%2Bwf8A8kQ1z/ss3xH/APU11uvZq8Z/YP8A%2BSIa5/2Wb4j/APqa63QB7NRRRQAUUVwH7S37Tfwf/ZL%2BFV78X/jT4lFhptsRHa20S77rULlgdltbxZBllfBwo4ABZiqqzDOrVpUKbqVJJRSu29EkZVq1HDUZVaslGMVdt6JJdWdrrWt6N4b0i68QeItWtrCwsoHnvL29nWKGCJRlnd2IVVABJJIAAr8%2BPix/wUI%2BOX/BRL4uXn7HH/BMK8m0vRYPk8d/G2aF1j061JKubLoVZsMqSZEkjAmPy1Uzjw745eLf25/%2BCvvx%2Bj/Zms438EeGLR47vXvCNvKZIfDdmWyk%2Btyrj7RfMBmOwGAjAbwjJIa/Tj9lH9lH4O/sa/B6w%2BDPwY0AWtjbDzL6%2Bmw11qd0QA9zcOAN8jYHoFACqAqgD5eOMxnENeVLD3p4aLtKe05vrGPWK/ml8XRWe3r1%2BHsTRyuljc25qKrxU6NDWNapTfw1q20sPQmtaUNMRiF79qFBqVXN/Y7/AGKfgZ%2BxH8N/%2BEA%2BDugt9pvGWXxB4jvyJNQ1m4AP724lxk4LNtQYRNzbQCzE%2BuUUV9PQoUcLRjSpRUYrRJbI8qnTp0YKFOKjFbJKyXol/Xq7tlFFFalhRRRQAUUUUAFFFFABRRRQAUUUUAFFFFABRRRQAUUUUAFFFFABRRRQAUUUUAFFFFABRRRQAV4z%2By//AMlv/aO/7LNY/wDqFeF69mrxn9l//kt/7R3/AGWax/8AUK8L0AezUUUUAFFFFABRRRQAUUUUAFFFFABRRRQAUUUUAFFFFABRRRQAUUUUAFFeYftp/F7xV8A/2TPiH8Y/A0dqdb8P%2BFLy60d76Ivbw3QjIillUEFokcq7rkZVWGRnI8y8FfHb4s/AfSf2gvDHxN8f6l8TJPg94eg8R6PrerafY2d9fwTaTJdNYzjT7eC3LrNaylXSFT5VxErB2Qu4B9OV4x47RJP%2BChHwwjkUFW%2BDHjwMD3H9reEK47/gnn8cvHPxKttR8O/Gfx78Qr7xlN4V0TxLPpHjjw5omn2sVjfi5Ed1pa6WhcWkksE6CG9lkvIRAglCl8vo3/xO8N%2BMf%2BCm3gvwZpOm%2BIYbzw98HvHEd/NqvhHUbG0lL6t4Swba6uYI4L0DactbvIFyNxG5cgHJ/wDBER2tf%2BCcng/w1IxL6JrOu2D56grq922PycV9Z18l/wDBHP8A0H9nrxz4T6f2B8bPFGn7f7u27D4/8iV9aV5ORf8AImw67QS%2B66/Q/QPFbXxLzef89ec//BnJU/8AcgUUUV6x%2BfhRRRQAUUUUAFFFFABRRRQAUUUUAFFFFABRRRQAUUUUAFFFFABRRRQAUUUUAFFFFABRRRQAUUUUAFFFFABRRRQAV4z44/5SF/C//sjPjz/07eEK9mrxnxx/ykL%2BF/8A2Rnx5/6dvCFAHs1FFFABXHfHj42eGv2fvh1L8RPE2kanqm7UrHTNM0XRIY5L3VNQvbqK0tLSBZZI4/MknmjXdI6RoCXd0RWYdjXl/wC1v8G/Gfxn%2BGFhY/DW80yLxN4a8YaL4l0CPW55IrK6uNPv4bk2s8kUcjxJNGkkPmrHIYjIJAkmzYwBmw/tsfDJf2d9V/aF1bwn4l09dE19vD%2Bq%2BD7qzt21iDW/7QTTo9M2RTvA00t1LDHG6zGBxPHIJfLbfVLVf28vhb4X%2BA3jX44eOfBXinQ7r4f6udG8S%2BBby3s5tbi1Zobae20%2BNba5ltpZriK9spIilwYyt1GzugDlOc8HfswfFdfgT8RfA/xc%2BGfgLxPqfxG1zUPE2q6KPGd/b6emoz3CeRYpdJp/nxRwW9vaFdQSMTfaEaRbeLC4810L/gk54mv/AIYeIru%2B%2BN2v%2BBvGmv8AjPV/FUdn4T8SJr9jb311oNtocUdxfeIdPurm/ZbS1Ja7aOKfde3ITapRQAfYHwy8faP8Vvht4e%2BKPh22uYdP8SaHaarYw3qKs0cNxCkyLIFZlDhXAIDEZzgnrXmv7B//ACRDXP8Ass3xH/8AU11utb4G/s%2B6n4I/ZF8I/s1/FDx3rGsXmj%2BDbHR9Y1zS9ak026lkhhRGMFzpy2kkSqV2o8Yicoq7ssWJ5v8A4J0%2BHrDwl%2BzdfeFtKuL6W2074t/EO2t5dT1Se9uXRPGetKDLcXDvNO5A5kkdnY5LMSSaAPdKKKKAOD/ab/aJ%2BH37KXwP8QfHf4m3hTTNCszILeNh5t7Ox2w20QPWSRyqDsM5OACR%2BbXjzTv2nv2j/wBoPw7/AMJlLb3v7QPizTxe%2BE/CahpNH%2BCHh2Xax1O5Uj59UZCpQsNyuVYDcIFG3%2B2/%2B1g/7RPxx/4Tbwro3/CS%2BCfhd4rTQPhP4XRfMi8ffEOT5El2AgS2dgGDk5CsdoDEXGB9p/sKfseW/wCyv8PbzV/GuuN4j%2BJfjO4GqfEjxjdHfNqN%2BwJMSNgbbeIsyRoABjLYBYgfGV51OIswdCm2qMLXa9X7y7ybTVPpFKVSzbp2%2Bi4Uy7LqWE/1wzmmqtCE5QwOHkrwxNem/fxNWP28NhptRjF3jWrpR1jGo11H7KP7Knws/Y%2B%2BElr8KPhfYyMN5uda1q8O%2B81m%2BcDzbu5k6vI5/BRhRgACvS6KK%2Buo0aWHpRpUopRirJLojysyzLH5xj6uOx1V1K1WTlOUndyk923%2BSVkkkkkkkiiiitTiCiiigAooooAKKKKACiiigAooooAKKKKACiiigAooooAKKKKACiiigAooooAKKKKACiiigAooooAK8Z/Zf/5Lf%2B0d/wBlmsf/AFCvC9ezV4z%2By/8A8lv/AGjv%2ByzWP/qFeF6APZqKKKACiiigAooooAKKKKACiiigAooooAKKKKACiiigAooooAKKKKAMzxp4N8K/EXwdq3w%2B8daBa6romu6bPp%2BsaXexB4by1mjaOWGRTwyOjMpHcE1xfwp/ZP8Agh8FrO5sfAmia1tv7mafVpNb8Y6pqsuqyS28NsTeyX1zM97tgt4YoxOZBEkYWPYMg%2Bj0UAed/Ar9lX4G/s3Tahd/CPwvfWlxqdnaWVzdar4k1DVJksrXzfstlFJfTzPBaw%2BdN5VtEVhjMrlUXcc8744/5SF/C/8A7Iz48/8ATt4Qr2avGfHH/KQv4X/9kZ8ef%2BnbwhQB5j/wSr/4ler/ALSfhM8fYv2nPE08S/3Yp1tnUfoa%2BtK%2BS/8Agnr/AMSn9rL9q7wn08n4p2eobf8Ar6sVfP47a%2BtK8nJNMtjHs5r7qlQ/QPFH3uNq9X/n5Tw0/wDwPCYR/oFFFFesfn4UUUUAFFFFABRRRQAUUUUAFFFFABRRRQAUUUUAFFFFABRRRQAUUUUAFFFFABRRRQAUUUUAFFFFABRRRQAUUUUAFeM%2BOP8AlIX8L/8AsjPjz/07eEK9mrxnxx/ykL%2BF/wD2Rnx5/wCnbwhQB7NRRRQAUUUUAFFFFABXjP7B/wDyRDXP%2ByzfEf8A9TXW69mrxn9g/wD5Ihrn/ZZviP8A%2BprrdAHs1fJf/BSz9pXxZZrp37FH7P8A4oi0zx54906e58QeI2k2x%2BDfDMYb7bq0zAjyzsV0jOQchiCGCbvob4%2BfGTwt%2Bz18FfFHxv8AGkmNN8L6JcahcIHCtMY0JWJSf43fai%2BrOK/NCz%2BGPxN%2BL1j4d%2BDXiXWZpPjT%2B1m0Xij4u6zAmH8JeA4iHj0%2BIHJhR0CRKp%2B8waN84Q187n%2BOqUqX1aj8U1rbR2b5Ul2lOT5U/srnl9lG%2BUZHX4w4joZBSq%2BypzUqmIrf8%2BMLTXNWqf4nFOMO8pK2riev/wDBKr9mfwv8SPEmnftbxeFZ9O%2BHvgzTpvDn7PmgahFiVbLey3uvzrgf6VeS%2BYd2AQGYcqIyPv6s7wh4T8OeAvCmmeB/B%2BkQ2Gk6NYQ2WmWNuuEt7eJAkcaj0VVA/CtGvSyvAQy3BxpLfeT2u9L%2BiVkorpFJd7%2B5xRnlHPMyTwtL2OFoxjRw9JbUqFO6pw7OTV51JbzqzqTe6sUUUV6B84FFFFABRRRQAUUUUAFFFFABRRRQAUUUUAFFFFABRRRQAUUUUAFFFFABRRRQAUUUUAFFFFABRRRQAUUUUAFeM/sv/wDJb/2jv%2ByzWP8A6hXhevZq8Z/Zf/5Lf%2B0d/wBlmsf/AFCvC9AHs1FFFABRRRQAUUUUAFFFFABRRRQAUUUUAFFFFABRRRQAUUUUAFFFFABRXHftB/GbQv2d/gd4s%2BOfiTTLq%2Bs/CmgXOpSafY7fPvGijLJbxbiF8yRgsa7iBucZIGTXNfs9/tDeL/iRq/jT4f8Axq%2BHGl%2BDPF3gS6tP7asNK8Ttq2nyWd1arcW91DdyWtqzKf30Tq8KFJLaTG5NjsAerV4V8SPEmk6X/wAFJfg/oF/ciO41T4NfEFbFWP8ArXj1Twg7IPfYGb6I1Wf2OP2x4v2vb34gz6b8Np9B0rwl4pt9P8P6hdaj5r6/p1xptpf22peV5afZkmiuldIizt5ZRmKMzRJ81/8ABWP4iar8Dv8AgoL%2ByP8AH61Zk03wu/iqLxPPuwsGl3934c0%2BeVuxC/aUxnviuXG4lYPDSrPaNr%2Bl0m/knf5HFmGLWAwcsRLaNr%2BnNFN/JO/yPTP2Q/8AiT/8FQv2tNAPCXY8E6hbr67tJlWQ/wDfWK%2BtK%2BS/g3/xJv8Agsd8ZtN6f218KvDuoY/veTI8Gf1xX1pXHk%2BmGqR7VKq/8nb/AFP03xI9/OsJW/nwWBl92FhD86YUUUV6x%2BfhRRRQAUUUUAFFFFABRRRQAUUUUAFFFFABRRRQAUUUUAFFFFABRRRQAUUUUAFFFFABRRRQAUUUUAFFFFABRRRQAV4z44/5SF/C/wD7Iz48/wDTt4Qr2avGfHH/ACkL%2BF//AGRnx5/6dvCFAHs1FFFABXHfHj42eGv2fvh1L8RPE2kanqm7UrHTNM0XRIY5L3VNQvbqK0tLSBZZI4/MknmjXdI6RoCXd0RWYdjXl/7W/wAG/Gfxn%2BGFhY/DW80yLxN4a8YaL4l0CPW55IrK6uNPv4bk2s8kUcjxJNGkkPmrHIYjIJAkmzYwBmw/tsfDJf2d9V/aF1bwn4l09dE19vD%2Bq%2BD7qzt21iDW/wC0E06PTNkU7wNNLdSwxxusxgcTxyCXy231Bpn7Y954j8Jahq3gv9ln4la34h0HxNJoXizwJYNoa6poN2tpDej7TJNqkdkyvbXVpMhhuZS63UeBncF5bwd%2BzB8V1%2BBPxF8D/Fz4Z%2BAvE%2Bp/EbXNQ8Taroo8Z39vp6ajPcJ5Fil0mn%2BfFHBb29oV1BIxN9oRpFt4sLjza2/Yb/bA%2BGfwC8U%2BB/gVP4RsNb%2BLXxPOv/FCG8%2BKutmay0j%2BzLTT2sdP1yfT7q8nu5otPtxJfTwpIn2i4aIRsIWjAPrf4OfFjwZ8ePhL4Z%2BNnw6vZrjQPFug2mr6NNcW7RSPbXESyxl42%2BZG2sMqeQcg9K89/YP/AOSIa5/2Wb4j/wDqa63XZeF/hbptx8BdK%2BD2u%2BEoPCVnB4ettNfQvAXii8todJiijVFt7K%2Bt1tLhI41QIkiLC21R8q9K8%2B/4J16Bpvg79mu/8M6bdXslppnxa%2BIdvBNqmqT3tw0cfjPWlDS3Fy7zTvgZaSR2djksxJJoA8e/4KpeNNC%2BKfxF%2BHn7EurakIfDl5JN48%2BL8wPy23hbSMzskvok80ewHs8K%2Btb/APwS38BeIviLYeKv%2BChnxX0vyPE/xku1m0GxkGf7F8MwHZp9mnYbkUSsVwHzGxGQa%2BRPG2v%2BI/2tLbxP8TNAu5otc/az%2BKEPgH4eyr/rNP8AAmkzD7deID91ZDF%2B9Tnue9frH4V8MaH4J8L6b4M8MaelppmkWENlp1pEPlhgiQJGg9gqgfhXyOVr%2B1M3qYyWsY2cfmmofdDmn61U9z6nIZPJfDmrma0r5zVai%2BqwGFkoxS7RxGJvN/zRpJaov0UUV9cfLBRRRQAUUUUAFFFFABRRRQAUUUUAFFFFABRRRQAUUUUAFFFFABRRRQAUUUUAFFFFABRRRQAUUUUAFFFFABRRRQAV4z%2By/wD8lv8A2jv%2ByzWP/qFeF69mrxn9l/8A5Lf%2B0d/2Wax/9QrwvQB7NRRRQAUUUUAFFFFABRRRQAUUUUAFFFFABRRRQAUUUUAFFFFABRRRQBx37QnwZ0P9on4G%2BLPgZ4k1S6sLPxXoFzpsmoWO3z7NpYyqXEe4FfMjYrIu4EbkGQRkV5p4L/Y08U6jZfEKD9pP4n6L43b4tae%2Bl/EKPRvC93ocVxpi6etlb2dn5epSy2ahWupJJDLLI8l2xRoAiKPfKKAPEv2Vf2H/AAR%2ByZ8RviT468GeO/Fmqw/EHVtPu47DxN4x1jVzpsdrp1vZiPzdRvbkzOzQs/m4Rwjxw8pDHjwr/goB%2Bxd8J/i38ctR8JeBPhN4d07xR8QP2d/iBLqGq6XocEF3q%2BpWuq%2BEZ7F7maNA85WdVwXLEbmx1NfcVeM%2BOP8AlIX8L/8AsjPjz/07eEKyr0YYmhOlPaSafo01%2BphicPTxeGnQqL3Zpxfo00/zPj/wT%2B0Bc%2BFdT/Zx/wCCqdzqBm8O%2BOvBtt8NvjJPIcrY3AmZYr8k/cVb6KUSMeiBRyXr9Jq%2BDv2XfgZ4P8YQftU/8EtPiLDs0a28Wy6v4dQoCbXS9ZiF1bNADw32aeMOD2kIz6V67/wS/wDjn4x%2BIvwKvPgl8ZZsfEb4Qas/hPxnE7kvObf5bW9BPLJNCqkSH77JIw4NfOZJXqUaip1X/ETfpVh7lVf9vcsai/7ePuMJXnxh4YYPMp64vLFHC4jvKjzTjQqP/r3UVShJ9qlFve7%2BlKKKK%2BoPjgooooAKKKKACiiigAooooAKKKKACiiigAooooAKKKKACiiigAooooAKKKKACiiigAooooAKKKKACiiigAooooAK8Z8cf8pC/hf/ANkZ8ef%2BnbwhXs1eM%2BOP%2BUhfwv8A%2ByM%2BPP8A07eEKAPZqKKKACiiigAooooAK%2BT/AAx8RP8AhUv/AATc%2BM/xKSfy5dF8WfFu5tWzjM6%2BK9f8oD3Mm0fjX1hX5xftoeMm8M/8EfviN4ctrwQXPi34%2BeMdDtpCennfEPVnkHvmKKUfjXBmtd4XLK9VbxhJ/Ozt%2BLR5%2Bb1qlDK69SmryUJWS3cmrRS83KUUvNoz/wDgjj8O/wDhaPxY0b4g3EG7w98CvhXp3hPw%2BpHyf8JBqUf2/V5V9JYjM1s/qGWv0tr5Y/4Iw/D%2BLwP/AME7vA2rXFsBqfiw3viHWrkjDXVxdXUjLK3v5IhX6IK%2Bp64uHMN9Xyek3vNKT%2BaVl8oqK%2BR%2Bi8fKlguIP7FoP9zl1OngqdtmsNFU5yX/AF8re3qv/Gr6rQooor3D4oKKKKACiiigAooooAKKKKACiiigAooooAKKKKACiiigAooooAKKKKACiiigAooooAKKKKACiiigAooooAKKKKACvGf2X/8Akt/7R3/ZZrH/ANQrwvXs1eM/sv8A/Jb/ANo7/ss1j/6hXhegD2aiiigAooooAKKKKACiiigAooooAKKKKACiiigAooooAKKKKACiiigAorN8Z%2BMfCvw78H6t8QPHOv2ulaJoWmz6hrGqXsoSGztYY2klmkY8KiIrMT2ANcj8MP2oPgv8YfA%2Bu/EHwPruqNY%2BGJZIvENpq3hbUdN1DT3S2jutstheW8V0haCWKVAYv3iSIybgwJAPQK8Z8cf8pC/hf/2Rnx5/6dvCFdZ8Ff2kPhL%2B0A2r23w41TV1vdBlhTWdH8R%2BFdR0TULPzkLwvJZ6jbwTrHIoYpJs2PscKxKMByfjj/lIX8L/APsjPjz/ANO3hCgDhf20/wBl34x2vxKsf25v2MdSWD4o%2BG9LFjrHhm7mIsPGmkI5kOnzDICTAkmKXj5sAkYRk8jtNU8Q/tJajN/wUn/4Jv6k%2BmfFHToItJ%2BL3wc8SP5K6ybYFTYXaNgwXkYUrDPwGCgfL84P35XzZ%2B0p/wAE9LTx98Spv2mv2YPipqXwp%2BLRhVbjxFo6%2BZYa4qD5YdSs2/d3K8Ab8bhgEh9igfPZjldTmdWgm03zOKdmpLapTb0U%2BjT92a0eu7yTOM64KzmeZ5TCNWFVONfDzSdOtCVuZOLsry5VzK8buMJwnTqwjN9x%2ByH%2B2V8Kv2xPA0/iDwV9p0rXtHn%2ByeLvBmsp5WpaDeqSHgniODjcGCvjDYPRgyr63X5b/H3XodI%2BI9p4v/bi8E%2BIP2c/jTYFbXQ/2jPhlazXnhnXiAFRbwJncjYUGGYbgqjc6J8le1/C7/gp/wCO/gpo1hZ/t4%2BEbO68N3brFo3x7%2BGWdU8LaspICvceRueykPQrggtuIRFGaywfEFOL9ljHZreVmv8AwOL96m/W9Nv4Z2sj7qhknD/HTliODKrlWWs8BVfLi6T6qkpOP1qmnflcP3yjbmpTac5fbtFY/gL4h%2BA/ip4VtfHPw08ZaZr%2BjXybrTVNHvkuIJR7OhIJHcdQeDWxX0sZRnFSi7pnxFajWw9WVKrFxlFtNNNNNaNNNJprqmk12CiiimZhRRRQAUUUUAFFFFABRRRQAUUUUAFFFFABRRRQAUUUUAFFFFABRRRQAUUUUAFFFFABRRRQAUUUUAFeM%2BOP%2BUhfwv8A%2ByM%2BPP8A07eEK9mrxnxx/wApC/hf/wBkZ8ef%2BnbwhQB7NRRRQAVx3x4%2BNnhr9n74dS/ETxNpGp6pu1Kx0zTNF0SGOS91TUL26itLS0gWWSOPzJJ5o13SOkaAl3dEVmHY15f%2B1v8ABvxn8Z/hhYWPw1vNMi8TeGvGGi%2BJdAj1ueSKyurjT7%2BG5NrPJFHI8STRpJD5qxyGIyCQJJs2MAZsP7bHwyX9nfVf2hdW8J%2BJdPXRNfbw/qvg%2B6s7dtYg1v8AtBNOj0zZFO8DTS3UsMcbrMYHE8cgl8tt9Y9z%2B374Pj0OG0svgd49vPHMnjWbwrL8K7VNJOuW2pRaauqyLI7agLBYxp7w3Xm/ayhS4hUMZZFjOP4O/Zg%2BK6/An4i%2BB/i58M/AXifU/iNrmoeJtV0UeM7%2B309NRnuE8ixS6TT/AD4o4Le3tCuoJGJvtCNItvFhceffDL/gn38dfgXPZfHj4Y2XhG5%2BIcnxR1LxTrHhPX/H%2Br3emSWt5oNvoptf7bubS4vridUsbK6N1NbEySefHsjR0aMA%2Br/g98VvB3x0%2BFfh74x/D67mm0XxNpEGo6a1zAYpVjlQMEkjbmORclXQ8qysp5Br8mv%2BCp/jm3t/2LfCXwomvTEdV/aF%2BLmuLsfB36d4j18Rn/v5dp%2BOK/TT4Bfs0RfDH9krw7%2BzT418UXt7NZaCttrur%2BHdVu9Jknu3Yy3MttNbSx3FspmeQpskDqhALHkn8ef2r9E0vxx8VvCX7KmlzX93Y6b4y8W6RYS6lqk99cC71L4papCEkuLh3mmla2tCzSSOzvyWYkk18zxhUlDIKkI7zcYr5yX%2BR6/DOCpZpxlk%2BBqfBVxmFUv8EK0a9T7qeGm35Jn7OfsoeBv%2BFY/svfDn4dGHy20PwLpNjKuMHfFZxIxPuWBJ9zXf0iIsahEUBVGAAOAKWvoqVONGlGnHaKS%2B5JfoceYYyrmOYVsXV%2BKrOc36znKb/GTCiiitDkCiiigAooooAKKKKACiiigAooooAKKKKACiiigAooooAKKKKACiiigAooooAKKKKACiiigAooooAKKKKACiiigArxn9l/8A5Lf%2B0d/2Wax/9QrwvXs1eM/sv/8AJb/2jv8Ass1j/wCoV4XoA9mooooAKKKKACiiigAooooAKKKKACiiigAooooAKKKKACiiigAooooA8w/bU%2BEPir4%2BfsmfEP4O%2BBXtRrfiDwpeWujx30pS3mujGTFFKwBKxO4VHbBwrMcHGDwPwJj%2BPGl/E74qftG%2BL/2XvE%2BjXHjS3sl0PwdPruiS3irpWnYX7RJDfvbpNd3E80MWyWRVS3jeZ4d21fo2igD51/YE8P8AxuvH8ZfGf9qL4G%2BJfB/xJ8Z3NlNrw1jUdHuLGC1hSVbTStNOnX90zW1mrybpZxE8811NMEUSeVC%2B/wDBfiTw9/wU28F%2BItW%2BLniHXbPVvg944ew0HVbbTktNFC6t4Syls1taRTuH3DP2iWc/INpX5s/Q9eM%2BOP8AlIX8L/8AsjPjz/07eEKAPZqKKKAKutaJo3iTSbjQfEWkWt/Y3cRiu7K9t1limQ9VdGBDA%2BhGK%2BVfiH/wSH%2BCseqaj4v/AGUfiN4n%2BCutamG%2B3W/g%2B6EuiX5IwVutLmzBLHjjyl2J7V9aUVyYrAYPGpKvBSts9mvRqzXyfyZxYvL8FjnF1oJyjrGWqlF94yi4yi/NSR%2BSvjL/AIJ6/wDBTP8AZI8U3fxH/Zv0yxku2l8y41v4M6qmmLegf8tL7w/ef6HcMMcQ2vlpznBOa3Phl/wX5%2BL3wM1yH4cft%2BfszavaXUeRJq%2Bm6TLpV%2BEVtoaXT7zCO5yGJimCjstfqdWZ4t8F%2BDvH2iyeG/HXhPTNa06b/XWGrWEdzC/1SQFT%2BIrwP9XMRgpc%2BW4qVP8AuySnB/LT71Z%2BZ9b/AK38UVqCoZlUhmFOKSj9bg51opaJQxdJ0sWklolUniYrTSys/Iv2dP8Ago/%2BxV%2B1NHb2/wAIvj9ok%2Bp3GAugapP9h1Dd3UW8%2B15COmYwy%2BhNe4V8pfGH/gih/wAE4fjC015P8AYPDd7LnF74Pv5dP8vP92BGNuP%2B/RridN/4JZ/tcfs%2Bwuf2Lv8Agp1440iztrcpp/hj4hadDrdkPRAX/dwL7pbkjtXZTxWf4ZWxOHjUXenKz/8AAJ2/CR87i8bCUualg5w8o1YVY/JzjRqW/wASk7LVtn3HRXwvq3xv/wCC5n7P8ap47/ZY%2BGnxe021hHnan4D1iWyu5vdo53VmY%2BkdviuXk/4ODPCfwz1NNC/aq/Yf%2BKXw%2Bv2O17d7aOYg98C6FqzD3A6UT4jyyg7YnmpP%2B/CUV99pR/8AJhYdY7Exbp4Su0v5aNSpb19iq1u%2BsVprofohRXx34H/4Lv8A/BNnxhBFLqnxc1bw60xwia94UvVGfQvBHLGPxbFeveDP%2BCin7B/j8IPDH7Xnw9kkk/1cF34ptrWVvpHO6Nn8K7KOcZTiP4WIg/8At6P6tHDHOMplVdL28FNaOLkoyT7OMuSSfk4p%2BR7NRWX4a8ceCvGcH2rwf4w0vVosZ8zTdQjnXHrlGNalejGUZK6d0ehGUZq8XdBRRRTGFFFFABRRRQAUUUUAFFFFABRRRQAUUUUAFFFFABRRRQAUUUUAFFFFABXjPjj/AJSF/C//ALIz48/9O3hCvZq8Z8cf8pC/hf8A9kZ8ef8Ap28IUAezUUUUAFFFFABRRRQAV%2BH/AOzjoN98Tv8AgrdfaBqSCaD/AIa58TS6SCM%2BWmialreozj/v5extX7gV%2BT3/AATX%2BHM8/wDwVi8UtdWr403xz8X/ABmjup%2BU3fjC60VcE%2Bq2ZIHoSa%2Bc4jovERwtPo60L/j/AJM%2Bu4DwzlxQsf0wmHxtf0lHB1aVN/8AgzFRP1hooor6M%2BRCiiigAooooAKKKKACiiigAooooAKKKKACiiigAooooAKKKKACiiigAooooAKKKKACiiigAooooAKKKKACiiigAooooAK8Z/Zf/wCS3/tHf9lmsf8A1CvC9ezV4z%2By/wD8lv8A2jv%2ByzWP/qFeF6APZqKKKACiiigAooooAKKKKACiiigAooooAKKKKACiiigAooooAKKKKACiiigArxnxx/ykL%2BF//ZGfHn/p28IV7NXjPjj/AJSF/C//ALIz48/9O3hCgD2aiiigAooooAKKKKACiiigAqprmgaF4n0yXRPEui2moWU64mtL62WaKQejI4IP4irdFJpNWZUJzpzUoNprZrRr0as18mfOvxR/4JNf8E8vi1O1/rv7MGgaZeFt6X3hbzdIkR/74%2BxvGpPf5gfevCfHn/Bvv8Dr66l1T4WfHzxRpdy4/dxeMtG03xLbQegSO7hVwP8AgZJ9a/QCivIxGQZLineph437pcr/APJbfkfXU%2BP%2BMFRVCvi3XppWUMRGniYJdlHE0sQkvKLiflP4k/4IWfHbwrP9t0Lwf8CfiAIWyLi/i1zwxfN7xrplyLdW/wB4FRWX/wAMh/tR/Cb93q/7Iv7RHh63i6ap8Fv2k4rwH/rnazxtKPbc1frZRXmy4QyyLvRcofc/zSf/AJN8zmlm/CeNd8x4cwFRveVOlUwk/XmwlelG/wD3Dt5H5KD4y3fw6%2BXxh%2B2n%2B2z8LvK4eX4qfD4anEmO5dEfevvjmuu8D/tVeK/Eexvh7/wcNeD542x5dr45%2BDun6d/31LcmJvzxX6e1yPjf9n/4D/Ezf/wsj4J%2BEfEHmf6z%2B2/Ddrd7vr5sbZpf6v4yl/Dr39XVj/6RVa/An6j4P4r48txuGf8A04x8ppekcRTv98z5O8GeIv8Agpf4r2H4Vf8ABQz9m7xzu/1X/EoJ8z/wDlb9K6rz/wDguTpH%2Bssf2X9YjHTyZfEFvK313fKK6rxn/wAEkv8AgnB473/23%2ByR4Xg39f7GWbTsfT7JJHj8K5X/AIcy/sraH/ySn4g/FjwJj/V/8Ij8S72Hy/8Ad84y0f2fnNPrJ/4a8l%2BFSlL8w/1R8LcR/AzvMcP5VKMKqX/b1Ktd/KAf8LT/AOCzml/8f37KvwZ1THX%2BzPHF1Bn6ectB/aV/4K26d/x%2Bf8Ez/C2pY6/2f8ZbKHP082Oj/h2x8evDA/4th/wVM%2BONpt/1f/CVX9trePr5sabqX/hmH/gq94W58M/8FNtB8Qov%2Brt/E/wesoOPQyW0hZvr1o5M0h8Srr0nQn%2BcYv8AAP8AiHPD9b/dOLYelWniKb/8mwtaK%2BchP%2BGzP%2BCmtl/yGP8AgkDegDq1j8b9Gnz%2BAjFH/De37b9n/wAhf/gkr48THX7F42024/8AQQM0v9m/8FvPDH/Hn4l/Zu8Twr1%2B32etWU7/AE8rKA/Wj/heH/BYbw5/yGf2G/hr4k29f%2BEe%2BJf2Pd9PtSHH40e3xUfiqYhetGD/APSUw/4hTnNT/deIsJU/7mcNF/dVw9G3zYn/AA8c/aRtf%2BQr/wAEq/jMmOv2P7HP/Jxml/4effEq2H/Ez/4Jf/tGJ6/ZPB0M/wDKYUf8Nw/8FBtD/wCR3/4JH%2BJYgv3m0D4n6VqWfcBFU/hR/wAPPfiRov8AyOv/AATC/aLt8ffOieDodRA/GOZc0fXnHfGTj/ioW/8AcYf8Qg8R5fwMXTq/4K2XVPyxUBP%2BHrl5b8aj/wAE0/2q4/Uw/CUSKPxFzR/w9v8AC8f/AB/fsF/tP23r5/whcY/Kc0v/AA%2BD%2BC%2Bn/wDI4fsyfHvw9j739tfCq4Tb9djvQP8Agtv/AME9rH/kbPiL4k0DH3hrHgHVk2/XZbtR/aVNb5lFetOC/PlD/iDfjI/4eGrT/wAGHo1P/TVepf5Cf8PfPhgn/Hz%2ByB%2B0VD/11%2BE0w/lKaP8Ah8H8GV/1v7MHx9T2f4U3H/xdbGk/8FmP%2BCZmtY%2Bx/tW6Smen2vR9Qt//AEbbriul0r/gqD/wT01jH2T9sHwImf8An61tIP8A0ZtrWGNc/hzGk/8At2n/APLDgxHhd4u4T%2BNhMTH1wNT9Ezg/%2BHwvwV7fszfHv/w1Vz/8XR/w%2BA%2BEjf6j9lH9oOX08v4UT8/%2BRK9d039vD9iDWMDTf2xfhdMx/gXx9p27/vnzs1v6d%2B07%2BzXq%2BP7J/aF8D3Wen2fxZZvn/vmQ10Rli5/DjoP0hT/%2BWHkVuD/EDD/xo1Y%2BuDmvzijwL/h7r4Fk/wCPT9iP9pW49PJ%2BEcpz%2Bcwo/wCHs9jJ/wAeX/BOf9qy49DD8Hjj9bkV9M2HxP8AhrquDpfxD0O5z0%2Bz6tC%2Bfyate1vrK%2BTzLK8imX%2B9FIGH6VvHD5nPbFr5U4f/ACTPLq5TxHR0q4px9cPFf%2BlNHyh/w9T16Xm0/wCCZf7Ujf8AXb4YLH/O5pP%2BHonj%2BTm3/wCCYP7SR/66eBok/nPX1rRVfU8z/wCgt/8Agun/AJmP1DOf%2Bg5/%2BCaX%2BZ8l/wDDzz4nnlf%2BCX37RWPfwjCP/a1H/Dz34mL9/wD4JfftF4/2fB8J/wDa1fWlFH1LM/8AoLf/AILph/Z%2Bcf8AQc//AAVS/wAz5K/4ei%2BO0/1v/BMP9pQf7ngSJv8A2vVT4KftTav%2B0t/wUL8GDVv2Y/id8ODonwZ8ZbP%2BFjeHVsP7R87VvCufs%2BJH8zy/KG/pjzY%2BuePsCvGfHH/KQv4X/wDZGfHn/p28IVrQw2Op1VKpiOZduSCv807m%2BGweZUqylVxTnHrH2dON/nF3XfQ9mooor0D1Arjvjx8bPDX7P3w6l%2BInibSNT1TdqVjpmmaLokMcl7qmoXt1FaWlpAsskcfmSTzRrukdI0BLu6IrMOxry/8Aa3%2BDfjP4z/DCwsfhreaZF4m8NeMNF8S6BHrc8kVldXGn38NybWeSKOR4kmjSSHzVjkMRkEgSTZsYAzP%2BG3Phda/s2a9%2B0rr3hfxHpdt4Y1O40nX/AAre2tv/AGtZarDeCzNgyxztbmRp2jVJBOYGWVJfN8tt9c3/AMPGPBctpDo1j8AfiHceNZPHF54Uk%2BHKDRl1OG/tdMTVZi1w%2BpLpzRrZSwy7ku2J8wIB5iuic1qP7IH7Rnif9l/4lfCrXpfBVt4i%2BJviWfxNrcUGuXc%2BmSyS6hC0mgyFrNJGspdNtYrOW8CiRjcTutsmFU%2Bdyf8ABMr4m/8ACEQaNe/AT4G6t4VHxO1HxIn7Oeo6ncDwXpttcaNb2EaW8/8AZL5kS6iur/Z/Z6QmXUp8KsiLOwB9lfBb4teD/j58IPC3xw%2BH0ty%2BheMPD9nrOjveWxhlNtcwrNHvQ8q21xkdj3PWvg7/AIJB2tx4v/b2/ao8aXcR2eE/Hmt%2BHLGRv4luPFeu30oH0Yrn6ivsf4G/s/ax4K/ZI8Kfs3fFfx7qmtX2keELPSNZ17RtdvtPuZ5IolVmhu4ZkuowCuFk80SlQNzElifmr/gh/wDC608BaJ%2B0hq9qb147r9qjxvp1lPqepT3tzLaWWqTRRtLcXDvNO%2B5pd0kjs7EFmYkk152NpuricMuim5P5Qlb8WfacL42GByPOpP4qmHhSj/3ExVDm%2B%2BFNp%2BTPuWiiivRPiwooooAKKKKACiiigAooooAKKKKACiiigAooooAKKKKACiiigAooooAKKKKACiiigAooooAKKKKACiiigAooooAKKKKACvGf2X/%2BS3/tHf8AZZrH/wBQrwvXs1eM/sv/APJb/wBo7/ss1j/6hXhegD2aiiigAooooAKKKKACiiigAooooAKKKKACiiigAooooAKKKKACiiigDx7/AIKDnxyP2HPiwfhv/af9sf8ACBan9n/sTf8Abtn2d/N%2BzeX8/n%2BV5nl7Pn37dvzYr5s%2BEXiX4ead8Mf2nvDX/BOTX/DUHh3UvC0z/BWw8C3VuthdeJYvDubw6SkJ8twkr6aZTACq3LS78SmWvvSigD43/wCCZZ/Z8Pxj8e/8MWnSP%2BFT/wDCt/BXmf8ACObfsP8AwlW/Wf7S8zZx/aP2P%2ByPte797u8nzP3m%2BvQb/Uvivd/8FNvBdn428F%2BHtP0K3%2BD3jgeGtR0rxPPeXd%2Bh1bwl5jXNtJZQpaEYTASa4DbjkrtG76Hr5w/aP1f416P%2B3h8J5/gd8P8Awt4i1JvhH47W7tPFfjC50WCOD%2B1PCRLpLb6fes77to2GNRgk78gKQD6Porxn/hOP%2BChf/Rr/AMGf/D8at/8AMvR/wnH/AAUL/wCjX/gz/wCH41b/AOZegD2aivGf%2BE4/4KF/9Gv/AAZ/8Pxq3/zL0f8ACcf8FC/%2BjX/gz/4fjVv/AJl6APZqK%2BcdJ/aO/bt1j4z6/wDA63/ZQ%2BEi6p4d8L6Rrt5cv8ddU8iSDUbnUreFEI8Mbi6tpc5YFQAHjwWJYL1H/Ccf8FC/%2BjX/AIM/%2BH41b/5l6APZqK8Z/wCE4/4KF/8ARr/wZ/8AD8at/wDMvR/wnH/BQv8A6Nf%2BDP8A4fjVv/mXoA9morxn/hOP%2BChf/Rr/AMGf/D8at/8AMvXL%2BAf2jv27fiJ4r8b%2BENH/AGUPhJDceA/FEWharJc/HXVAk88mlafqYeLb4YJKeTqMKksFO9HGMAMwB9HUV4z/AMJx/wAFC/8Ao1/4M/8Ah%2BNW/wDmXo/4Tj/goX/0a/8ABn/w/Grf/MvQB7NRXjP/AAnH/BQv/o1/4M/%2BH41b/wCZej/hOP8AgoX/ANGv/Bn/AMPxq3/zL0AezUV84/CL9o79u34y%2BFLvxf4c/ZQ%2BEltb2fijW9CkjvfjrqiuZ9L1W60ydxt8MMNjTWkjIc5KMpIU5UdR/wAJx/wUL/6Nf%2BDP/h%2BNW/8AmXoA9morxn/hOP8AgoX/ANGv/Bn/AMPxq3/zL0f8Jx/wUL/6Nf8Agz/4fjVv/mXoA9morxn/AITj/goX/wBGv/Bn/wAPxq3/AMy9cv8ABH9o79u348fBjwh8cfCv7KHwktdL8Z%2BF9P13TbbUPjrqizwwXdtHcRpIE8MMocLIAwVmGQcEjmgD6Oorxn/hOP8AgoX/ANGv/Bn/AMPxq3/zL0f8Jx/wUL/6Nf8Agz/4fjVv/mXoA9morxn/AITj/goX/wBGv/Bn/wAPxq3/AMy9cv8AG79o79u34D/Bjxf8cfFX7KHwkutL8GeF9Q13UrbT/jrqjTzQWltJcSJGH8MKpcrGQoZlGSMkDmgD6Oo69a8Z/wCE4/4KF/8ARr/wZ/8AD8at/wDMvR/wnH/BQv8A6Nf%2BDP8A4fjVv/mXoA9Q1bwD4E1/P9u%2BCtJvd3X7XpsUmf8AvpTXNap%2By3%2BzJrmf7a/Z08CXmev2rwhZSZ/76iNcp/wnH/BQv/o1/wCDP/h%2BNW/%2BZej/AITj/goX/wBGv/Bn/wAPxq3/AMy9ZToUKnxQT9Un%2BaZ3YfNM0wn8DEVIf4ak4/8ApM4lnUv2Af2FtXyb/wDY2%2BFzMerp4D09GP8AwJYQawdR/wCCW/8AwTx1TP2n9j/wOuf%2BfbR1h/8ARZFZnxd/aO/bt%2BDXhS08X%2BI/2UPhJc2954o0TQo47L466ozifVNVtdMgc7vDCjYs13GznOQisQGOFPUf8Jx/wUL/AOjX/gz/AOH41b/5l655Zbls/ioQf/bkf/kT2KPG3GmG/hZniY%2BmIr//AC5nHX//AAR1/wCCaWpZ%2B0fsn6Guf%2Bfe/vYv/QJxWPdf8EQf%2BCX9y/mr%2BzGIXHR7bxhrMZH/AHzeYr0n/hOP%2BChf/Rr/AMGf/D8at/8AMvR/wnH/AAUL/wCjX/gz/wCH41b/AOZesJZJk0t8NT/8Aj/kepS8UPEuirU86xa/7ma3/wAmzzL/AIcl/wDBPuAY0nwB4m0/0%2Bx/EDVVx/31cGk/4cxfsiwH/iV%2BKPidY%2Bn2T4k34x%2BbmvTv%2BE4/4KF/9Gv/AAZ/8Pxq3/zL1y/j79o79u34d%2BK/BHhDWP2UPhJNcePPFEuhaVJbfHXVCkE8elahqZeXd4YBCeTp0ygqGO90GMEss/2FkvTDw%2BSt%2BTRt/wARW8S38WcYh/4qnN/6VGRzP/Dnj4Dw/wDIN/aE%2BOVnjp9l%2BKd0Mfmppf8Ah0X4Bi40/wDbV/aStPT7N8W5Rj84TXpv/Ccf8FC/%2BjX/AIM/%2BH41b/5l6P8AhOP%2BChf/AEa/8Gf/AA/Grf8AzL0f2HlH/PlffJflNB/xFTxEe%2BYzfrGjL/0rDSPMf%2BHTdrF/x4/8FGv2rLf0WL4wHH5G2qn8Ff2Vbz9mT/goX4LW6/aY%2BKfxFXWvgz4y2f8ACzPFI1M6f5OreFc/ZyI08vzPNG/ru8qPpt59a/4Tj/goX/0a/wDBn/w/Grf/ADL1Q8D%2BB/2rPGP7Vnhz43fG74cfD3wzo3hn4e%2BIdDhh8K/EO%2B1q6u7rUr7RLhGZLjSLFIo0TS5QWDuxaVAFxkjahlWX4aqqlKFpL%2B9N/g5tfgefmnH3F%2Bd4GeDx2K56c7XXssPG9mmvehhqc1qltNdndXT91ooor0D48KKKKACiiigArwf/AIJ2eFdL8MfBXxdNpwbfqvx5%2BJV9ds2PmlbxnrCduwVFH4V7xXyV%2ByV4s/bO0/4e%2BKLP4Y/AP4YavoSfGn4i/wBn6jr3xd1HTbuZf%2BEz1ksZLaLQLlIiG3AATPkAHIJ2hOKbTfQuNSpCEoJ6Stdd7O6%2B56n1rRXjP/Ccf8FC/wDo1/4M/wDh%2BNW/%2BZej/hOP%2BChf/Rr/AMGf/D8at/8AMvTIPZqK8Z/4Tj/goX/0a/8ABn/w/Grf/MvR/wAJx/wUL/6Nf%2BDP/h%2BNW/8AmXoA9mor5x%2BCP7R37dvx4%2BDHhD44%2BFf2UPhJa6X4z8L6frum22ofHXVFnhgu7aO4jSQJ4YZQ4WQBgrMMg4JHNdR/wnH/AAUL/wCjX/gz/wCH41b/AOZegD2aivGf%2BE4/4KF/9Gv/AAZ/8Pxq3/zL0f8ACcf8FC/%2BjX/gz/4fjVv/AJl6APZqK%2Bcfjd%2B0d%2B3b8B/gx4v%2BOPir9lD4SXWl%2BDPC%2Boa7qVtp/wAddUaeaC0tpLiRIw/hhVLlYyFDMoyRkgc11H/Ccf8ABQv/AKNf%2BDP/AIfjVv8A5l6APZqK8Z/4Tj/goX/0a/8ABn/w/Grf/MvR/wAJx/wUL/6Nf%2BDP/h%2BNW/8AmXoA9morxn/hOP8AgoX/ANGv/Bn/AMPxq3/zL1y/xd/aO/bt%2BDXhS08X%2BI/2UPhJc2954o0TQo47L466ozifVNVtdMgc7vDCjYs13GznOQisQGOFIB9HUV4z/wAJx/wUL/6Nf%2BDP/h%2BNW/8AmXo/4Tj/AIKF/wDRr/wZ/wDD8at/8y9AHs1FeM/8Jx/wUL/6Nf8Agz/4fjVv/mXo/wCE4/4KF/8ARr/wZ/8AD8at/wDMvQB7NRXzj4%2B/aO/bt%2BHfivwR4Q1j9lD4STXHjzxRLoWlSW3x11QpBPHpWoamXl3eGAQnk6dMoKhjvdBjBLL1H/Ccf8FC/wDo1/4M/wDh%2BNW/%2BZegD2aivGf%2BE4/4KF/9Gv8AwZ/8Pxq3/wAy9H/Ccf8ABQv/AKNf%2BDP/AIfjVv8A5l6APZqK8Z/4Tj/goX/0a/8ABn/w/Grf/MvXL6t%2B0d%2B3bo/xn0D4HXH7KHwkbVPEXhfV9ds7lPjrqnkRwadc6bbzI5PhjcHZtUgKgKQQkmSpChgD6Oorxn/hOP8AgoX/ANGv/Bn/AMPxq3/zL0f8Jx/wUL/6Nf8Agz/4fjVv/mXoA9morxn/AITj/goX/wBGv/Bn/wAPxq3/AMy9H/Ccf8FC/wDo1/4M/wDh%2BNW/%2BZegD2aivnHSf2jv27dY%2BM%2Bv/A63/ZQ%2BEi6p4d8L6Rrt5cv8ddU8iSDUbnUreFEI8Mbi6tpc5YFQAHjwWJYL1H/Ccf8ABQv/AKNf%2BDP/AIfjVv8A5l6APZqK8Z/4Tj/goX/0a/8ABn/w/Grf/MvR/wAJx/wUL/6Nf%2BDP/h%2BNW/8AmXoA9morxn/hOP8AgoX/ANGv/Bn/AMPxq3/zL1y/gH9o79u34ieK/G/hDR/2UPhJDceA/FEWharJc/HXVAk88mlafqYeLb4YJKeTqMKksFO9HGMAMwB9HUV4z/wnH/BQv/o1/wCDP/h%2BNW/%2BZej/AITj/goX/wBGv/Bn/wAPxq3/AMy9AHs1eM/sv/8AJb/2jv8Ass1j/wCoV4Xo/wCE4/4KF/8ARr/wZ/8AD8at/wDMvVv9lb4c/GnwfrHxQ8d/HTQPC%2Bk6p4%2B%2BIUWuWeleE/Etzq1va2sWg6Ppiq9xcWVmzSNJp0rlRFtCyINzHOAD1uiiigAooooAKKKKACiiigAooooAKKKKACiiigAooooAKKKKACiiigAooooAK%2BV/2nv2tPi58MPjH4s1rwD4d8HyeGPg/wCH/D9741OtaRcTarqlvq9/KlzBYXEdxGll5FtZx3GZIpxcyFIyIfL80/VFeM/Gf9iH4cfG74pH4ma5458VaXFqNrpFr4v8NaNdWqad4pg0u9kvbGK%2BWW3kmCxzTS5%2BzywGWOQxTGWMKgAPZqKKKACiiigD5j8OftK/EyH9v/xR8H/iNrHh7wn4bXxBaaJ4Mi1H4Rayl14xgGgQajiDxG12unNLHd3OoAWgheTy7SYBQWaRfpyvK/Fn7LUHj/4yaR8U/Hvxv8a6vpXh7XY9a0DwBcHTItGsdQjt3gjnDQ2SXsuzzJJFSa6kjEj7tnyIF9UoAKKKKAPF/wDgoL8Xfjh%2Bz9%2ByP40%2BPXwCvfCkeseCdCu9cuoPGGi3N9bXdpa20sz26JbXVsySuyIokLlUBYlH4Fef%2BPP2tPi54L%2BPHi3U/Cnh3whF8PPCHxj8I/D7xlZzaRcHW9V1XXYNFSPUIbtLhYY44P7c0mMxSW8ryJDPiWPagr2H9rH9nGy/a0%2BBGvfs%2B618VfFPhHSfE9lLY65f%2BEF077Xc2UsTxTW26/tLqNEdX5ZEWQFRtdec8XB%2BwD4On%2BItn8RfFXxx8fa6x1nSdc8TaNqEulRWPifXNMSNLHVr2O2sImW4iEFphbZoIGNjbF4mMeSAe90UUUAFeL/tk/F344fBK18A%2BMfhZe%2BFP7G1D4meHPD3i%2Bx8QaLc3N1c2uq6zY6aDZyw3UKW0ka3Msm%2BRJ1JRF2ck17RXlX7V37Lb/tVeG9C8Lz/AB98b%2BBrfQvElhrqN4Lh0dnu72xvILyzaU6lp94NsVxbxuFjCBuVk3qdoAPOP2ef2lfiZrf7VXi34I/FDV/D3hPTofFOt2/gnwlJ8ItZ0y5162hdJTf2%2BtXF39g1B2Mk0ssVtAX5LsVwxP05Xkuk/soh/jJovxl%2BI/7QHjvxrN4Xu7y78J6F4hGkw2Gj3VzbyWslxEthp9tLK/2eaeFfPklVFnfaASCPWqACiiigDw/9u74ufHj9n74Nav8AHX4UeMfAtjp/hbRbm8vdF8WeGb2/ufEN7lFs9Ms5La9g%2BzzXEpFujeVdM0s8QWFj8ref/BH9r74z658S/BX9reDPCWkfDTxv8T/FHw28K%2BGtO0uaPV9Ev9Ah1bfPPci4a3mgkbw/qaLDHbxGNWtj5kmWA9P/AGlf2QYP2kvHngj4gTftA%2BO/CFz4Bu7m90Wx8MRaNPZyXsqCNbyaDU9OvEeeGPzFhkAUxieUj5myKvgP9hr4e%2BA/jLb/ABdh%2BIvi7UoNO13U9e0TwhqVzZf2TpWt6jG8eoapAkVqk/nzie7LK8zwo19cmOKPzOAD2uiiigAr5f8A2ufjx%2B0v8FviJp/hTSofAHjXR/HMOtW2i/DmLwffSawlraaHdXcl/cTi9eK6thdRW9tJCLWIH7fCgmMjIkn1BXh037E1xH%2B0f4r/AGmtE/ar%2BJenav4t02HTrnS4YPD89pp9nDA0cNtZtc6TLc28Syu91sWba87l3Dg7aAGfsIftB%2BN/j38Pby6%2BK/j7Rr7xdpws21/w3ZfC7V/CN5oDz2yyiC5stXup7hwW3%2BXcAJHIqHaG2k17pXm/wO/Zu074M%2BJ/EnxD1j4peKfHHirxXFY2%2BseJ/FzWC3L2lmJvstqkWn2trbRxRtc3LjbCGZriQszZGPSKACiiigD45/4KCftx/FT9jDxz/aeuaLoHjHwi%2Bjajrdv4Vl%2BHOp2Utumm6Nfakkn/AAkU10%2BmT3f2vTRssVgS6EcyygbYWkb179mj4u/HPVvip43/AGev2jrnwpqHifwjpOh61HrXgrSLmwsbmx1QXkaRGC5ubl1liuNOu1L%2BbiRDE2yMkqK3x1/YS8EftOa1dWvx/wDi3418UeC7mS4kX4ZXkmmw6LFJNYzWTNvt7KO%2BkAjuJmCS3ToHfdt%2BRAvT/s%2BfszaR8A7zXvEV38UPFnjjxH4kNnHq3irxrcWb30ttaRGK1tR9jtreFYog8rDEe9nnld2dnJoA9KooooAK%2BI/2p/2yv2s/g38avEHwo8HeG/DnjXU7DRbjXfDAT4H%2BII5NFA1HTLVDC325x4mkFjqlx539l%2BU8LQlZRGJhHX25Xh%2BvfsW6n4l8en4na1%2B1z8UZtb0%2BC8i8G3hTQAPCq3U0Mk/2SMaTsnZo4Ft916t0yxM4Uq7s5AOq/ZY%2BLD/GT4RweLL34maN4qv4dRurLVL7RvBl94dFtcRSsrWs2m6hcT3VnPGMK8czh8/NtUMBXo1cN8A/gL4e%2BAHhnU9G0rxTrfiDUdf1641vxJ4k8RzQNe6rfzBEaeUW8UMCYjihiVIYo41SJAFGCT3NABRRRQAUUUUAFFFFABRRRQBR8UeIbDwl4a1HxXqoc2umWM13ciJct5caF2wO5wpr5z/Ym/aT%2BNfj/wAU6P4M%2BNnh7wZZjx18LbL4jeGYfBmlXFoNMjvLgm70%2B7M1xKLuaN7m2f7YggE7SzEwR7QX%2Blru0tb%2B1lsb23SaGaNo5opVDK6kYKkHggjjFeQ/szfsV%2BAv2YNVfV9A%2BIPi3xLLbeGLHwz4dHiy9tZhoGhWbyPb6bam3t4S0amT5pZzNcSCOLzJn8tcAHsVFFFABXC/tQePPiL8LP2aPiJ8Tvg/4UXXvFvhzwLq%2BqeFtDaxmuhqOo29nLLbWxhgZZZhJKiJ5cbB23YUgkGu6rO8W6Jf%2BJfDGoeH9L8V6joVze2kkNvrWkLA11YuykCaIXEUsRdTyBJG6ZHzKwyCAeXfsU/Fqf4ofDO%2BstW%2BIXh/WdT8O6qunXmmaJ8MNT8HPoaC2gkis7jStUuZ7mFwjiRXby0eKWLYmBvf2KvPPgP%2BztpPwOvPEviO5%2BIniTxj4k8X6jDeeIvFPit7MXd0YbdLeCIR2NtbW0UUcaAKscKZLOzFmZmPodABRRRQB8uftUftY/FD9nD4veOLL4laN4S8RfC%2Bw/Z38X%2BPbbQrfRLhNVdtEGlrPbXFzJcvbzRTrfTgILZCoRMu%2BWFdv%2BzP8X/j5qnxc8Zfs6/tLP4SvPFHhjwx4e8Sx6r4K0m5sbKSy1Z9St1tjDc3Ny5lhuNIuwZRIFkR4m8uM7lqD4x/sK%2BHfjp8dW%2BMvjz47eOZdNm8Fan4Rvvh7DBov9iXejaktt9vtJC%2BmtekTtaQOzi6DqUIRkRmQ9J%2Bzv8Asu6H%2Bz7fa14jn%2BKHi3xv4h1%2B1sLK/wDE/ja5tJL02Fiki2dmPsltbx%2BVEZ7hwShkd7mV3d2bNAHp9FFFABXyJ8a/2l/2tvBmu/tAeBLfwr4M8WXvgLw/4U8SfDax0n4f6nfzrHqOq6lCEvLWK8eXUZ4F02OdTbC3JckKvyq1fXdeFy/sUeIYvjp42%2BP%2BhftofFbStW8b6RY6Zc2NlZ%2BGGtNNtrK4uZ7NLYS6K8n7o3l0oMzyl1nIk8wqhUA6v9lT4tzfGX4UjxNqPxO0bxTqNrqtzY6tdaP4Iv8Aw2bO4ib5rWfTNRuJ7q0nRSu5JmDEMrbVVhXpNcJ8A/gHoHwB0LWbHT/FuueI9V8TeIJdc8T%2BJvEktu17qt/JDDB5sgtoYYIwsFvbwqkUUaKkKALnJPd0AFFFFAHxt%2B0t%2B13%2B0t%2Bzx8ZoPhtrKfDPxrfa3BBN4Rh07wte2kvgu81LxDpnh7SJtTle%2BmF1FO2rzgtEtnI4sbpYwy%2BYYvcf2Vfi/wDEj4jDx/8AD74xHRJ/FXw08eN4a1nVfDWnTWdhqfmaXp2rW9xDbzTzyW%2BbXVLdHjaaXEkcmGIIxwtt/wAE1fCTXXxDfxD%2B0v8AE7Wbf4k68dc1i31I6F5lnqUVxDPp9zbXUWlpdKbB7e3FpG80kUSwoGR%2Bc%2BsfAP4C6H8A/D2rabZeL9c8Sat4i16bWvE/ijxK9sb/AFe%2Bkjih86YWsEEC7IILeBEiijRY4I1C8EkA7qiiigBlz9p%2BzSfY9nnbD5Xm527scZxzjNfEHxW/a5/bT%2BGnxE1z4bW9t4D8Z694YvfDVvq3jrwR8Fdf1aPw5b6s1497YS6VZ6lPd3M0cNlY3RMU6fu7qFpYEBiaT7eu4ZLi1lt4bqSB5I2VZ4gpeMkYDLuBXI6jII9Qa%2Be/gx%2BwF4g%2BAnw2uPhp8O/26vjFFHdas%2BpzazeWXhOfUJbuV5ZLmeaZ9CP2mSd5d0kk4kfMabCgGCAes/AT4h2XxW%2BDvh/4hWHxA0bxUmp6eJH1/wAP6TNYWl3ICVkKWs800tsVdWRoZJHeNlZWO5SB19cl8C/gv4S/Z9%2BF%2BnfCnwVc39xZWEt1cTX2q3Imur67urmW6urqZwqhpZrieaV9qqu6Q7VVcKOtoAKo%2BJ4fElz4b1C38G6nY2WryWUq6XeanYPdW0FwUIjklhjliaaNWwWRZIywBAdSdwvVm%2BMdBv8AxR4Wv/Dul%2BLdS0G5vLV4oNa0cQG6sXI4miFxFLEXU8gSRuhx8ysMigD4e%2BG/7dn7Wvxg%2BKet/BL4Wab8Pk8Z6ba67fSeM/Ffwu1rQ11TTNItdFlSxl0S8vk1DT5Xu/EOxJp5nj8qGS4SF1nQH7G%2BAXxa034%2BfAnwV8ddG02Wzs/GvhLTdetLOZ9zwRXlrHcLGxAGSokAJ9RXi2r/APBMjwPrWuX3xFu/2lPimnxA1ZLy11r4k217pEOrX%2BmXVta202mFE00WcNsUsrRh5FtFKskCyrKHLMfoPwX4P8NfDzwdpPgDwZpMWn6PoemQafpNhDnZbW0MaxxRrnnCoqqPpQBp0UUUAcv8adR8caN8Lda1v4c%2BIbHS9WsLM3UN9qHg%2B98QIkcZDygadYzwXN5I0SuqRQyBy7LhXPyN8W/CX/goj8fvEnjTQ9T8b3HhHwJ4M1KedfEHji8%2BBniKa21i/h1%2B60hEuZVvo08MzyWtpa/uNUaSWB5VjfOwJX238TPBmu%2BPfCU3hzw38Utf8G3kksbxa/4ZisXu4NrAlVW/trmBgwBUh4m4Jxg4I8Vuv%2BCc3hTUPB9x8NtW/aQ%2BJt34Y1zUJr/x5oE1xo4i8YXc9411cTX0q6aLiLzSywtHZy2sQhiSNUUbtwB9E0UUUAFFFFABRRRQAUUUUAFFFFABRRRQAUUUUAFFFFABRRRQAUUUUAFFFFABRRRQAUUUUAFFFFABRRRQAUUUUAFFFFABRRRQAUUUUAFFFFABRRRQAUUUUAFFFFABRRRQAUUUUAFFFFABRRRQAUUUUAFFFFABRRRQAUUUUAFFFFABRRRQAUUUUAFFFFABRRRQAUUUUAFFFFABRRRQAUUUUAFFFFABRRRQAUUUUAFFFFABRRRQAUUUUAFFFFABRRRQAUUUUAFFFFABRRRQAUUUUAFFFFABRRRQAUUUUAFFFFABRRRQAUUUUAFFFFABRRRQAUUUUAf/2Q%3D%3D\">"
      ]
     },
     "metadata": {},
     "output_type": "display_data"
    }
   ],
   "source": [
    "s.run(tf.global_variables_initializer())\n",
    "\n",
    "BATCH_SIZE = 512\n",
    "EPOCHS = 40\n",
    "\n",
    "# for logging the progress right here in Jupyter (for those who don't have TensorBoard)\n",
    "simpleTrainingCurves = matplotlib_utils.SimpleTrainingCurves(\"cross-entropy\", \"accuracy\")\n",
    "\n",
    "for epoch in range(EPOCHS):  # we finish an epoch when we've looked at all training samples\n",
    "    \n",
    "    batch_losses = []\n",
    "    for batch_start in range(0, X_train_flat.shape[0], BATCH_SIZE):  # data is already shuffled\n",
    "        _, batch_loss = s.run([step, loss], {input_X: X_train_flat[batch_start:batch_start+BATCH_SIZE], \n",
    "                                             input_y: y_train_oh[batch_start:batch_start+BATCH_SIZE]})\n",
    "        # collect batch losses, this is almost free as we need a forward pass for backprop anyway\n",
    "        batch_losses.append(batch_loss)\n",
    "\n",
    "    train_loss = np.mean(batch_losses)\n",
    "    val_loss = s.run(loss, {input_X: X_val_flat, input_y: y_val_oh})  # this part is usually small\n",
    "    train_accuracy = accuracy_score(y_train, s.run(classes, {input_X: X_train_flat}))  # this is slow and usually skipped\n",
    "    valid_accuracy = accuracy_score(y_val, s.run(classes, {input_X: X_val_flat}))  \n",
    "    simpleTrainingCurves.add(train_loss, val_loss, train_accuracy, valid_accuracy)"
   ]
  },
  {
   "cell_type": "markdown",
   "metadata": {},
   "source": [
    "# Submit a linear model"
   ]
  },
  {
   "cell_type": "code",
   "execution_count": 66,
   "metadata": {
    "collapsed": true
   },
   "outputs": [],
   "source": [
    "## GRADED PART, DO NOT CHANGE!\n",
    "# Testing shapes \n",
    "grader.set_answer(\"9XaAS\", grading_utils.get_tensors_shapes_string([W, b, input_X, input_y, logits, probas, classes]))\n",
    "# Validation loss\n",
    "grader.set_answer(\"vmogZ\", s.run(loss, {input_X: X_val_flat, input_y: y_val_oh}))\n",
    "# Validation accuracy\n",
    "grader.set_answer(\"RMv95\", accuracy_score(y_val, s.run(classes, {input_X: X_val_flat})))"
   ]
  },
  {
   "cell_type": "code",
   "execution_count": 67,
   "metadata": {},
   "outputs": [
    {
     "name": "stdout",
     "output_type": "stream",
     "text": [
      "Submitted to Coursera platform. See results on assignment page!\n"
     ]
    }
   ],
   "source": [
    "# you can make submission with answers so far to check yourself at this stage\n",
    "grader.submit(COURSERA_EMAIL, COURSERA_TOKEN)"
   ]
  },
  {
   "cell_type": "markdown",
   "metadata": {},
   "source": [
    "# MLP with hidden layers"
   ]
  },
  {
   "cell_type": "markdown",
   "metadata": {},
   "source": [
    "Previously we've coded a dense layer with matrix multiplication by hand. \n",
    "But this is not convenient, you have to create a lot of variables and your code becomes a mess. \n",
    "In TensorFlow there's an easier way to make a dense layer:\n",
    "```python\n",
    "hidden1 = tf.layers.dense(inputs, 256, activation=tf.nn.sigmoid)\n",
    "```\n",
    "\n",
    "That will create all the necessary variables automatically.\n",
    "Here you can also choose an activation function (remember that we need it for a hidden layer!).\n",
    "\n",
    "Now define the MLP with 2 hidden layers and restart training with the cell above.\n",
    "\n",
    "You're aiming for ~0.97 validation accuracy here."
   ]
  },
  {
   "cell_type": "code",
   "execution_count": 69,
   "metadata": {
    "collapsed": true
   },
   "outputs": [],
   "source": [
    "# write the code here to get a new `step` operation and then run the cell with training loop above.\n",
    "# name your variables in the same way (e.g. logits, probas, classes, etc) for safety.\n",
    "### YOUR CODE HERE ###\n",
    "\n",
    "hidden1 = tf.layers.dense(input_X, 256, activation=tf.nn.sigmoid)\n",
    "hidden2 = tf.layers.dense(hidden1, 256, activation=tf.nn.sigmoid)\n",
    "logits = tf.layers.dense(hidden2, 10)\n",
    "\n",
    "probas = tf.nn.softmax(logits)\n",
    "classes = tf.argmax(probas, 1)\n",
    "\n",
    "loss = tf.reduce_mean(tf.nn.softmax_cross_entropy_with_logits(labels=input_y, logits=logits))\n",
    "\n",
    "adam = tf.train.AdamOptimizer()\n",
    "step = adam.minimize(loss)"
   ]
  },
  {
   "cell_type": "markdown",
   "metadata": {},
   "source": [
    "# Submit the MLP with 2 hidden layers\n",
    "Run these cells after training the MLP with 2 hidden layers"
   ]
  },
  {
   "cell_type": "code",
   "execution_count": 71,
   "metadata": {
    "collapsed": true
   },
   "outputs": [],
   "source": [
    "## GRADED PART, DO NOT CHANGE!\n",
    "# Validation loss for MLP\n",
    "grader.set_answer(\"i8bgs\", s.run(loss, {input_X: X_val_flat, input_y: y_val_oh}))\n",
    "# Validation accuracy for MLP\n",
    "grader.set_answer(\"rE763\", accuracy_score(y_val, s.run(classes, {input_X: X_val_flat})))"
   ]
  },
  {
   "cell_type": "code",
   "execution_count": 72,
   "metadata": {},
   "outputs": [
    {
     "name": "stdout",
     "output_type": "stream",
     "text": [
      "Submitted to Coursera platform. See results on assignment page!\n"
     ]
    }
   ],
   "source": [
    "# you can make submission with answers so far to check yourself at this stage\n",
    "grader.submit(COURSERA_EMAIL, COURSERA_TOKEN)"
   ]
  },
  {
   "cell_type": "code",
   "execution_count": null,
   "metadata": {
    "collapsed": true
   },
   "outputs": [],
   "source": []
  }
 ],
 "metadata": {
  "kernelspec": {
   "display_name": "Python 3",
   "language": "python",
   "name": "python3"
  },
  "language_info": {
   "codemirror_mode": {
    "name": "ipython",
    "version": 3
   },
   "file_extension": ".py",
   "mimetype": "text/x-python",
   "name": "python",
   "nbconvert_exporter": "python",
   "pygments_lexer": "ipython3",
   "version": "3.6.2"
  }
 },
 "nbformat": 4,
 "nbformat_minor": 1
}
